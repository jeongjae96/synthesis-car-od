{
  "cells": [
    {
      "cell_type": "code",
      "execution_count": null,
      "metadata": {
        "id": "hiv4fIc70SC3"
      },
      "outputs": [],
      "source": [
        "import os\n",
        "import glob\n",
        "from tqdm.auto import tqdm\n",
        "import numpy as np\n",
        "import pandas as pd\n",
        "from pycocotools.coco import COCO\n",
        "from ensemble_boxes import weighted_boxes_fusion"
      ]
    },
    {
      "cell_type": "code",
      "execution_count": null,
      "metadata": {},
      "outputs": [],
      "source": [
        "working_dir = '../'\n",
        "# dir_len = len(working_dir)\n",
        "\n",
        "# path = os.getcwd().replace('\\\\', '/')\n",
        "# index = path.find(working_dir)\n",
        "# working_dir = path[:index + dir_len + 1]\n",
        "# working_dir"
      ]
    },
    {
      "cell_type": "code",
      "execution_count": null,
      "metadata": {},
      "outputs": [],
      "source": [
        "TEST_PATH = os.path.join(working_dir, 'data/coco/test.json')\n",
        "SUBMISSION_PATH = os.path.join(working_dir, 'submissions')"
      ]
    },
    {
      "cell_type": "code",
      "execution_count": null,
      "metadata": {},
      "outputs": [],
      "source": [
        "submission_files = glob.glob(os.path.join(SUBMISSION_PATH, '*.csv'))\n",
        "submission_files"
      ]
    },
    {
      "cell_type": "code",
      "execution_count": null,
      "metadata": {},
      "outputs": [],
      "source": [
        "submission_dfs = [pd.read_csv(file) for file in submission_files]"
      ]
    },
    {
      "cell_type": "code",
      "execution_count": null,
      "metadata": {
        "id": "Q_m-H0ar0SC4",
        "outputId": "5d8cf39d-ffe3-4058-ed7c-89021d2f8482"
      },
      "outputs": [],
      "source": [
        "annotation = TEST_PATH\n",
        "coco = COCO(annotation)"
      ]
    },
    {
      "cell_type": "code",
      "execution_count": null,
      "metadata": {},
      "outputs": [],
      "source": [
        "file_names = list(map(lambda x : os.path.basename(x['file_name']), coco.loadImgs(coco.getImgIds())))"
      ]
    },
    {
      "cell_type": "code",
      "execution_count": null,
      "metadata": {},
      "outputs": [],
      "source": [
        "X_COLS = [x for x in submission_dfs[0].columns if 'x' in x]\n",
        "Y_COLS = [y for y in submission_dfs[0].columns if 'y' in y]"
      ]
    },
    {
      "cell_type": "code",
      "execution_count": null,
      "metadata": {},
      "outputs": [],
      "source": [
        "IOU_THRESHOLD = 0.85\n",
        "\n",
        "final_file_names = []\n",
        "final_class_ids = []\n",
        "final_confidences = []\n",
        "final_x_mins = []\n",
        "final_y_mins = []\n",
        "final_x_maxes = []\n",
        "final_y_maxes = []\n",
        "\n",
        "for i, file_name in enumerate(tqdm(file_names)):\n",
        "    bboxes = []\n",
        "    scores = []\n",
        "    labels = []    \n",
        "    img_info = coco.loadImgs(i)[0]\n",
        "\n",
        "    for submission_df in submission_dfs:\n",
        "        model_pred_df = submission_df.loc[submission_df['file_name'] == file_name]\n",
        "\n",
        "        if len(model_pred_df) == 0:\n",
        "            continue\n",
        "\n",
        "        # bboxes\n",
        "        x_mins = model_pred_df[X_COLS].min(axis=1).to_numpy().reshape(-1, 1) / img_info['width']\n",
        "        y_mins = model_pred_df[Y_COLS].min(axis=1).to_numpy().reshape(-1, 1) / img_info['height']\n",
        "        x_maxes = model_pred_df[X_COLS].max(axis=1).to_numpy().reshape(-1, 1) / img_info['width']\n",
        "        y_maxes = model_pred_df[Y_COLS].max(axis=1).to_numpy().reshape(-1, 1) / img_info['height']\n",
        "\n",
        "        model_bboxes = np.concatenate(\n",
        "            (\n",
        "                x_mins,\n",
        "                y_mins,\n",
        "                x_maxes,\n",
        "                y_maxes,\n",
        "            ),\n",
        "            axis=1\n",
        "        )\n",
        "        bboxes.append(model_bboxes)\n",
        "        \n",
        "        # scores\n",
        "        model_scores = model_pred_df['confidence'].tolist()\n",
        "        scores.append(model_scores)\n",
        "\n",
        "        # labels\n",
        "        model_labels = model_pred_df['class_id'].tolist()\n",
        "        labels.append(model_labels)\n",
        "\n",
        "    if len(bboxes):\n",
        "        ens_bboxes, ens_scores, ens_labels = weighted_boxes_fusion(\n",
        "            bboxes, \n",
        "            scores, \n",
        "            labels, \n",
        "            iou_thr=IOU_THRESHOLD,\n",
        "        )\n",
        "\n",
        "        for bbox, score, label in zip(ens_bboxes, ens_scores, ens_labels):\n",
        "            x_min, y_min, x_max, y_max = bbox\n",
        "\n",
        "            final_file_names.append(file_name)\n",
        "            final_class_ids.append(label)\n",
        "            final_confidences.append(score)\n",
        "            final_x_mins.append(x_min * img_info['width'])\n",
        "            final_y_mins.append(y_min * img_info['height'])\n",
        "            final_x_maxes.append(x_max * img_info['width'])\n",
        "            final_y_maxes.append(y_max * img_info['height'])"
      ]
    },
    {
      "cell_type": "code",
      "execution_count": null,
      "metadata": {},
      "outputs": [],
      "source": [
        "ensembled_results = pd.read_csv(os.path.join(working_dir, 'data/sample_submission.csv'))\n",
        "ensembled_results['file_name'] = final_file_names\n",
        "ensembled_results['class_id'] = final_class_ids\n",
        "ensembled_results['confidence'] = final_confidences\n",
        "ensembled_results['point1_x'] = final_x_mins\n",
        "ensembled_results['point1_y'] = final_y_mins\n",
        "ensembled_results['point2_x'] = final_x_maxes\n",
        "ensembled_results['point2_y'] = final_y_mins\n",
        "ensembled_results['point3_x'] = final_x_maxes\n",
        "ensembled_results['point3_y'] = final_y_maxes\n",
        "ensembled_results['point4_x'] = final_x_mins\n",
        "ensembled_results['point4_y'] = final_y_maxes\n",
        "\n",
        "ensembled_results.sort_values(by=['confidence'], ascending=False, inplace=True)\n",
        "ensembled_results['class_id'] = ensembled_results['class_id'].astype('int')"
      ]
    },
    {
      "cell_type": "code",
      "execution_count": null,
      "metadata": {},
      "outputs": [],
      "source": [
        "# os.makedirs(os.path.join(SUBMISSION_PATH, 'submit/'), exist_ok=True)\n",
        "ensembled_results.to_csv(os.path.join(SUBMISSION_PATH, 'submission.csv'), index=False)"
      ]
    }
  ],
  "metadata": {
    "colab": {
      "name": "ensemble.ipynb",
      "provenance": []
    },
    "interpreter": {
      "hash": "d4d1e4263499bec80672ea0156c357c1ee493ec2b1c70f0acce89fc37c4a6abe"
    },
    "kernelspec": {
      "display_name": "Python 3.8.5 64-bit ('base': conda)",
      "name": "python3"
    },
    "language_info": {
      "codemirror_mode": {
        "name": "ipython",
        "version": 3
      },
      "file_extension": ".py",
      "mimetype": "text/x-python",
      "name": "python",
      "nbconvert_exporter": "python",
      "pygments_lexer": "ipython3",
      "version": "3.9.16"
    }
  },
  "nbformat": 4,
  "nbformat_minor": 2
}
