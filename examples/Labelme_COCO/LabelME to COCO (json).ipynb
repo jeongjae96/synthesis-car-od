{
 "cells": [
  {
   "cell_type": "code",
   "execution_count": null,
   "id": "f3161521",
   "metadata": {},
   "outputs": [],
   "source": [
    "import json\n",
    "import cv2\n",
    "from glob import glob\n",
    "from sklearn.model_selection import train_test_split"
   ]
  },
  {
   "cell_type": "code",
   "execution_count": null,
   "id": "907c6eac",
   "metadata": {},
   "outputs": [],
   "source": [
    "ann_path = './data/train/*.txt'\n",
    "ann_files = glob(ann_path)\n",
    "ann_files = [i.replace('\\\\', '/') for i in ann_files]"
   ]
  },
  {
   "cell_type": "code",
   "execution_count": null,
   "id": "7e3223cc",
   "metadata": {},
   "outputs": [],
   "source": [
    "# valid set을 나눌 경우\n",
    "# ann_train, ann_valid = train_test_split(ann_files,\n",
    "#                                        test_size=0.1,\n",
    "#                                        random_state=1119)"
   ]
  },
  {
   "cell_type": "code",
   "execution_count": null,
   "id": "95760f91",
   "metadata": {},
   "outputs": [],
   "source": [
    "def labelmetxt2coco(anns):\n",
    "    cars = {}\n",
    "    # 숫자로 해도 되지만, 클래스 확인하기 위해 차종으로 변경\n",
    "    classes = [\"chevrolet_malibu_sedan_2012_2016\", \"chevrolet_malibu_sedan_2017_2019\", \"chevrolet_spark_hatchback_2016_2021\", \"chevrolet_trailblazer_suv_2021_\", \"chevrolet_trax_suv_2017_2019\", \"genesis_g80_sedan_2016_2020\", \"genesis_g80_sedan_2021_\", \"genesis_gv80_suv_2020_\", \"hyundai_avante_sedan_2011_2015\", \"hyundai_avante_sedan_2020_\", \"hyundai_grandeur_sedan_2011_2016\", \"hyundai_grandstarex_van_2018_2020\", \"hyundai_ioniq_hatchback_2016_2019\", \"hyundai_sonata_sedan_2004_2009\", \"hyundai_sonata_sedan_2010_2014\", \"hyundai_sonata_sedan_2019_2020\", \"kia_carnival_van_2015_2020\", \"kia_carnival_van_2021_\", \"kia_k5_sedan_2010_2015\", \"kia_k5_sedan_2020_\", \"kia_k7_sedan_2016_2020\", \"kia_mohave_suv_2020_\", \"kia_morning_hatchback_2004_2010\", \"kia_morning_hatchback_2011_2016\", \"kia_ray_hatchback_2012_2017\", \"kia_sorrento_suv_2015_2019\", \"kia_sorrento_suv_2020_\", \"kia_soul_suv_2014_2018\", \"kia_sportage_suv_2016_2020\", \"kia_stonic_suv_2017_2019\", \"renault_sm3_sedan_2015_2018\", \"renault_xm3_suv_2020_\", \"ssangyong_korando_suv_2019_2020\", \"ssangyong_tivoli_suv_2016_2020\"]\n",
    "    cars[\"categories\"] = [{\"id\":i,\"name\":cat,\"supercategory\":\"none\"} for i, cat in enumerate(classes)]\n",
    "    cars[\"images\"] = []\n",
    "    cars[\"annotations\"] = []\n",
    "    cnt_ann = 0\n",
    "    for i, ann in enumerate(anns):\n",
    "        img_path = ann.replace(\"txt\", \"png\")\n",
    "        #h, w, _ = cv2.imread(img_path).shape\n",
    "        cars[\"images\"].append({\"id\":i,\"height\":1040,\"width\":1920,\"file_name\":img_path})\n",
    "\n",
    "        f_ann = open(ann, \"r\")\n",
    "        for line in f_ann.readlines():\n",
    "            data = line.split()\n",
    "            cat = int(float(data[0]))\n",
    "            pt1x = int(data[1])\n",
    "            pt1y = int(data[2])\n",
    "            #pt2x = int(data[3])    not to use\n",
    "            #pt2y = int(data[4])\n",
    "            pt3x = int(data[5])\n",
    "            pt3y = int(data[6])\n",
    "            #pt4x = int(data[7])\n",
    "            #pt4y = int(data[8])\n",
    "            x = pt1x\n",
    "            y = pt1y\n",
    "            width = pt3x - pt1x\n",
    "            height = pt3y - pt1y\n",
    "            area = width * height\n",
    "            cars[\"annotations\"].append({\"id\": cnt_ann,\n",
    "                                        \"image_id\": i,\n",
    "                                        \"category_id\": cat,\n",
    "                                        \"bbox\": [x, y, width, height],\n",
    "                                        \"area\": area,\n",
    "                                        \"segmentation\": [],\n",
    "                                        \"iscrowd\": 0})\n",
    "            cnt_ann += 1\n",
    "        \n",
    "    return cars"
   ]
  },
  {
   "cell_type": "code",
   "execution_count": null,
   "id": "1123565c",
   "metadata": {},
   "outputs": [],
   "source": [
    "with open('./data/labels', \"w\") as f:\n",
    "    json.dump(labelmetxt2coco(ann_files), f, ensure_ascii=False, indent=4)\n",
    "\n",
    "# train/valid split을 했을 경우\n",
    "# with open('/content/drive/MyDrive/DACON/236107/data/annotations/train_json', \"w\") as f:\n",
    "#     json.dump(labelmetxt2coco(ann_train), f, ensure_ascii=False, indent=4)\n",
    "\n",
    "# with open('/content/drive/MyDrive/DACON/236107/data/annotations/val_json', \"w\") as f:\n",
    "#     json.dump(labelmetxt2coco(ann_valid), f, ensure_ascii=False, indent=4)"
   ]
  }
 ],
 "metadata": {
  "kernelspec": {
   "display_name": "Python 3 (ipykernel)",
   "language": "python",
   "name": "python3"
  },
  "language_info": {
   "codemirror_mode": {
    "name": "ipython",
    "version": 3
   },
   "file_extension": ".py",
   "mimetype": "text/x-python",
   "name": "python",
   "nbconvert_exporter": "python",
   "pygments_lexer": "ipython3",
   "version": "3.8.16"
  }
 },
 "nbformat": 4,
 "nbformat_minor": 5
}
