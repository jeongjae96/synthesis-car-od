{
 "cells": [
  {
   "attachments": {},
   "cell_type": "markdown",
   "id": "fe07c475-d28f-4eaf-93e4-5b29e1bf5ca7",
   "metadata": {},
   "source": [
    "## Import"
   ]
  },
  {
   "cell_type": "code",
   "execution_count": null,
   "id": "73ad15c3-59f3-4339-b907-098e4c90cb82",
   "metadata": {},
   "outputs": [],
   "source": [
    "import warnings\n",
    "warnings.filterwarnings(action='ignore')"
   ]
  },
  {
   "cell_type": "code",
   "execution_count": null,
   "id": "2d89ac05-85bd-489e-ab3f-64dd3d1a5752",
   "metadata": {},
   "outputs": [],
   "source": [
    "import random\n",
    "import pandas as pd\n",
    "import numpy as np\n",
    "import os\n",
    "import glob\n",
    "import cv2\n",
    "import matplotlib.pyplot as plt\n",
    "\n",
    "import torch\n",
    "import torch.nn as nn\n",
    "\n",
    "import torchvision\n",
    "import torchvision.models as models\n",
    "from torchvision.models.detection.faster_rcnn import FastRCNNPredictor, FasterRCNN\n",
    "from torchvision.models.detection.rpn import AnchorGenerator\n",
    "from torchvision.models.detection.backbone_utils import resnet_fpn_backbone\n",
    "\n",
    "import torch.optim as optim\n",
    "import torch.nn.functional as F\n",
    "from torch.utils.data import Dataset, DataLoader, random_split\n",
    "\n",
    "import cv2\n",
    "import albumentations as A\n",
    "from albumentations.pytorch.transforms import ToTensorV2\n",
    "from tqdm.auto import tqdm\n",
    "\n",
    "# from sklearn.model_selection import train_test_split"
   ]
  },
  {
   "cell_type": "code",
   "execution_count": null,
   "id": "e1bf37bc-7627-4191-b77d-9767fb5bb941",
   "metadata": {},
   "outputs": [],
   "source": [
    "if torch.cuda.is_available():\n",
    "    device = torch.device('cuda:0')\n",
    "elif torch.backends.mps.is_available():\n",
    "    device = torch.device('mps')\n",
    "else:\n",
    "    device = torch.device('cpu')\n",
    "device"
   ]
  },
  {
   "cell_type": "code",
   "execution_count": null,
   "id": "33fdf8a1",
   "metadata": {},
   "outputs": [],
   "source": [
    "working_dir = 'synthesis-car-od'\n",
    "dir_len = len(working_dir)\n",
    "\n",
    "path = os.getcwd().replace('\\\\', '/')\n",
    "index = path.find(working_dir)\n",
    "working_dir = path[:index + dir_len + 1]\n",
    "working_dir"
   ]
  },
  {
   "cell_type": "code",
   "execution_count": null,
   "id": "330ddbe1",
   "metadata": {},
   "outputs": [],
   "source": [
    "DATA_PATH = os.path.join(working_dir, 'data/')"
   ]
  },
  {
   "attachments": {},
   "cell_type": "markdown",
   "id": "06e51955-8e5a-4431-b419-11b2a21adc6f",
   "metadata": {},
   "source": [
    "## Hyperparameter Setting"
   ]
  },
  {
   "cell_type": "code",
   "execution_count": null,
   "id": "546e0171-b4e0-4e1f-a4b1-b7ee38abf1c9",
   "metadata": {},
   "outputs": [],
   "source": [
    "CFG = {\n",
    "    'NUM_CLASS': 34,\n",
    "    'IMG_SIZE': 512,\n",
    "    'EPOCHS': 10,\n",
    "    'LR': 3e-4,\n",
    "    'BATCH_SIZE': 8,\n",
    "    'SEED': 41,\n",
    "    'VAL_RATIO': 0.2,\n",
    "}"
   ]
  },
  {
   "attachments": {},
   "cell_type": "markdown",
   "id": "b8687982-d4fb-4a00-a097-d9157081d20a",
   "metadata": {},
   "source": [
    "## Fixed Random-Seed"
   ]
  },
  {
   "cell_type": "code",
   "execution_count": null,
   "id": "4096b90d-94c5-4bda-bfda-4d056878ec7f",
   "metadata": {},
   "outputs": [],
   "source": [
    "def seed_everything(seed):\n",
    "    random.seed(seed)\n",
    "    os.environ['PYTHONHASHSEED'] = str(seed)\n",
    "    np.random.seed(seed)\n",
    "    torch.manual_seed(seed)\n",
    "    torch.cuda.manual_seed(seed)\n",
    "    torch.backends.cudnn.deterministic = True\n",
    "    torch.backends.cudnn.benchmark = True\n",
    "\n",
    "seed_everything(CFG['SEED']) # Seed 고정"
   ]
  },
  {
   "attachments": {},
   "cell_type": "markdown",
   "id": "dc9a2830-c875-48ce-b784-5c1a90d8c9ac",
   "metadata": {},
   "source": [
    "## Visualization"
   ]
  },
  {
   "cell_type": "code",
   "execution_count": null,
   "id": "b9a01439-3af9-4daa-9dd9-24ee18cead6e",
   "metadata": {},
   "outputs": [],
   "source": [
    "def draw_boxes_on_image(image_path, annotation_path):\n",
    "    # 이미지 불러오기\n",
    "    image = cv2.imread(image_path)\n",
    "    image = cv2.cvtColor(image, cv2.COLOR_BGR2RGB)\n",
    "\n",
    "    # txt 파일에서 Class ID와 Bounding Box 정보 읽기\n",
    "    with open(annotation_path, 'r') as file:\n",
    "        lines = file.readlines()\n",
    "\n",
    "    for line in lines:\n",
    "        values = list(map(float, line.strip().split(' ')))\n",
    "        class_id = int(values[0])\n",
    "        x_min, y_min = int(round(values[1])), int(round(values[2]))\n",
    "        x_max, y_max = int(round(max(values[3], values[5], values[7]))), int(round(max(values[4], values[6], values[8])))\n",
    "\n",
    "        # 이미지에 바운딩 박스 그리기\n",
    "        cv2.rectangle(image, (x_min, y_min), (x_max, y_max), (255, 0, 0), 2)\n",
    "        cv2.putText(image, str(class_id), (x_min, y_min - 5), cv2.FONT_HERSHEY_SIMPLEX, 0.5, (255, 0, 0), 2)\n",
    "\n",
    "    # 이미지와 바운딩 박스 출력\n",
    "    plt.figure(figsize=(25, 25))\n",
    "    plt.imshow(image)\n",
    "    plt.show()\n",
    "    \n",
    "# 파일 경로 설정\n",
    "image_file = os.path.join(DATA_PATH, 'train/syn_00001.png')\n",
    "annotation_file = os.path.join(DATA_PATH, 'train/syn_00001.txt')\n",
    "\n",
    "# 함수 실행\n",
    "draw_boxes_on_image(image_file, annotation_file)"
   ]
  },
  {
   "attachments": {},
   "cell_type": "markdown",
   "id": "02866a07-5d77-4aa9-9374-60e7a525ebc8",
   "metadata": {},
   "source": [
    "## Custom Dataset"
   ]
  },
  {
   "cell_type": "code",
   "execution_count": null,
   "id": "dde8fd39-8202-4ec6-9b42-88617e6ecae8",
   "metadata": {},
   "outputs": [],
   "source": [
    "def collate_fn(batch):\n",
    "    images, targets_boxes, targets_labels = tuple(zip(*batch))\n",
    "    images = torch.stack(images, 0)\n",
    "    targets = []\n",
    "    \n",
    "    for i in range(len(targets_boxes)):\n",
    "        target = {\n",
    "            \"boxes\": targets_boxes[i],\n",
    "            \"labels\": targets_labels[i]\n",
    "        }\n",
    "        targets.append(target)\n",
    "\n",
    "    return images, targets"
   ]
  },
  {
   "cell_type": "code",
   "execution_count": null,
   "id": "a98b55ec-52df-4518-9df2-202c0d84bf12",
   "metadata": {},
   "outputs": [],
   "source": [
    "class CustomDataset(Dataset):\n",
    "    def __init__(self, root, train=True, transforms=None):\n",
    "        self.root = root\n",
    "        self.train = train\n",
    "        self.transforms = transforms\n",
    "        self.imgs = sorted(glob.glob(root+'/*.png'))\n",
    "        \n",
    "        if train:\n",
    "            self.boxes = sorted(glob.glob(root+'/*.txt'))\n",
    "\n",
    "    def parse_boxes(self, box_path):\n",
    "        with open(box_path, 'r') as file:\n",
    "            lines = file.readlines()\n",
    "\n",
    "        boxes = []\n",
    "        labels = []\n",
    "\n",
    "        for line in lines:\n",
    "            values = list(map(float, line.strip().split(' ')))\n",
    "            class_id = int(values[0])\n",
    "            x_min, y_min = int(round(values[1])), int(round(values[2]))\n",
    "            x_max, y_max = int(round(max(values[3], values[5], values[7]))), int(round(max(values[4], values[6], values[8])))\n",
    "\n",
    "            boxes.append([x_min, y_min, x_max, y_max])\n",
    "            labels.append(class_id)\n",
    "\n",
    "        return torch.tensor(boxes, dtype=torch.float32), torch.tensor(labels, dtype=torch.int64)\n",
    "\n",
    "    def __getitem__(self, idx):\n",
    "        img_path = self.imgs[idx]\n",
    "        img = cv2.imread(self.imgs[idx])\n",
    "        # img = cv2.cvtColor(img, cv2.COLOR_BGR2RGB).astype(np.float32)\n",
    "        img = cv2.cvtColor(img, cv2.COLOR_BGR2RGB)\n",
    "        # img /= 255.0\n",
    "        height, width = img.shape[0], img.shape[1]\n",
    "\n",
    "        if self.train:\n",
    "            box_path = self.boxes[idx]\n",
    "            boxes, labels = self.parse_boxes(box_path)\n",
    "            labels += 1 # Background = 0\n",
    "\n",
    "            if self.transforms is not None:\n",
    "                transformed = self.transforms(image=img, bboxes=boxes, labels=labels)\n",
    "                img, boxes, labels = transformed[\"image\"], transformed[\"bboxes\"], transformed[\"labels\"]\n",
    "                \n",
    "            return img, torch.tensor(boxes, dtype=torch.float32), torch.tensor(labels, dtype=torch.int64)\n",
    "\n",
    "        else:\n",
    "            if self.transforms is not None:\n",
    "                transformed = self.transforms(image=img)\n",
    "                img = transformed[\"image\"]\n",
    "            file_name = img_path.replace('\\\\', '/').split('/')[-1]\n",
    "            return file_name, img, width, height\n",
    "\n",
    "    def __len__(self):\n",
    "        return len(self.imgs)"
   ]
  },
  {
   "cell_type": "code",
   "execution_count": null,
   "id": "7a2ec3ca-d53e-4248-b028-580ed7170345",
   "metadata": {},
   "outputs": [],
   "source": [
    "def get_train_transforms():\n",
    "    return A.Compose([\n",
    "        A.Resize(CFG['IMG_SIZE'], CFG['IMG_SIZE']),\n",
    "        A.HorizontalFlip(),\n",
    "        A.Normalize(),\n",
    "        ToTensorV2(),\n",
    "    ], bbox_params=A.BboxParams(format='pascal_voc', label_fields=['labels']))\n",
    "\n",
    "def get_test_transforms():\n",
    "    return A.Compose([\n",
    "        A.Resize(CFG['IMG_SIZE'], CFG['IMG_SIZE']),\n",
    "        A.Normalize(),\n",
    "        ToTensorV2(),\n",
    "    ])"
   ]
  },
  {
   "cell_type": "code",
   "execution_count": null,
   "id": "5de0e2ef-7d2d-49cc-b006-322486cccc22",
   "metadata": {},
   "outputs": [],
   "source": [
    "generator = torch.Generator().manual_seed(CFG['SEED'])\n",
    "\n",
    "train_dataset = CustomDataset(os.path.join(DATA_PATH, 'train/'), train=True, transforms=get_train_transforms())\n",
    "train_dataset, val_dataset = random_split(train_dataset, [1 - CFG['VAL_RATIO'], CFG['VAL_RATIO']], generator=generator) # stratify option 추후 고려\n",
    "\n",
    "test_dataset = CustomDataset(os.path.join(DATA_PATH, 'test/'), train=False, transforms=get_test_transforms())\n",
    "\n",
    "# DataLoader 생성\n",
    "train_loader = DataLoader(train_dataset, batch_size=CFG['BATCH_SIZE'], shuffle=True, collate_fn=collate_fn)\n",
    "val_loader = DataLoader(val_dataset, batch_size=CFG['BATCH_SIZE'], shuffle=False)\n",
    "test_loader = DataLoader(test_dataset, batch_size=CFG['BATCH_SIZE'], shuffle=False)"
   ]
  },
  {
   "attachments": {},
   "cell_type": "markdown",
   "id": "07d7f99f-aa83-4050-843b-34d8132c3fab",
   "metadata": {},
   "source": [
    "## Define Model"
   ]
  },
  {
   "cell_type": "code",
   "execution_count": null,
   "id": "c21fc74e-3c61-42d0-be1c-30f37a954d3f",
   "metadata": {},
   "outputs": [],
   "source": [
    "def build_model(num_classes=CFG['NUM_CLASS']+1):\n",
    "    model = torchvision.models.detection.fasterrcnn_resnet50_fpn(pretrained=True)\n",
    "    in_features = model.roi_heads.box_predictor.cls_score.in_features\n",
    "    model.roi_heads.box_predictor = torchvision.models.detection.faster_rcnn.FastRCNNPredictor(in_features, num_classes)\n",
    "    return model"
   ]
  },
  {
   "attachments": {},
   "cell_type": "markdown",
   "id": "705b0c4d-0f2e-4732-9bb1-17ceb032a9fe",
   "metadata": {},
   "source": [
    "## Train & Validation"
   ]
  },
  {
   "cell_type": "code",
   "execution_count": null,
   "id": "54e9b62a-4401-4254-a873-e7895824baac",
   "metadata": {},
   "outputs": [],
   "source": [
    "def train(model, train_loader, optimizer, scheduler, device):\n",
    "    model.to(device)\n",
    "\n",
    "    best_loss = 9999999\n",
    "    best_model = None\n",
    "    \n",
    "    for epoch in range(1, CFG['EPOCHS']+1):\n",
    "        model.train()\n",
    "        train_loss = []\n",
    "        for images, targets in tqdm(iter(train_loader)):\n",
    "            images = [img.to(device) for img in images]\n",
    "            targets = [{k: v.to(device) for k, v in t.items()} for t in targets]\n",
    "            \n",
    "            optimizer.zero_grad()\n",
    "\n",
    "            loss_dict = model(images, targets)\n",
    "            losses = sum(loss for loss in loss_dict.values())\n",
    "\n",
    "            losses.backward()\n",
    "            optimizer.step()\n",
    "\n",
    "            train_loss.append(losses.item())\n",
    "\n",
    "        if scheduler is not None:\n",
    "            scheduler.step()\n",
    "        \n",
    "        tr_loss = np.mean(train_loss)\n",
    "\n",
    "        print(f'Epoch [{epoch}] Train loss : [{tr_loss:.5f}]\\n')\n",
    "        \n",
    "        if best_loss > tr_loss:\n",
    "            best_loss = tr_loss\n",
    "            best_model = model\n",
    "    \n",
    "    return best_model"
   ]
  },
  {
   "cell_type": "code",
   "execution_count": null,
   "id": "2ec48874-5d17-4389-beb2-5d3f830586b5",
   "metadata": {},
   "outputs": [],
   "source": [
    "model = build_model()\n",
    "\n",
    "optimizer = torch.optim.Adam(model.parameters(), lr=CFG['LR'])\n",
    "scheduler = torch.optim.lr_scheduler.StepLR(optimizer, step_size=5, gamma=0.5)\n",
    "\n",
    "infer_model = train(model, train_loader, optimizer, scheduler, device)"
   ]
  },
  {
   "attachments": {},
   "cell_type": "markdown",
   "id": "895dd613-39a3-4c14-80c4-4a2cee53c2a2",
   "metadata": {},
   "source": [
    "## Inference & Submission"
   ]
  },
  {
   "cell_type": "code",
   "execution_count": null,
   "id": "ecaf4cff-bebd-4090-b3f9-76260aa3bf83",
   "metadata": {},
   "outputs": [],
   "source": [
    "def box_denormalize(x1, y1, x2, y2, width, height):\n",
    "    x1 = (x1 / CFG['IMG_SIZE']) * width\n",
    "    y1 = (y1 / CFG['IMG_SIZE']) * height\n",
    "    x2 = (x2 / CFG['IMG_SIZE']) * width\n",
    "    y2 = (y2 / CFG['IMG_SIZE']) * height\n",
    "    return x1.item(), y1.item(), x2.item(), y2.item()\n",
    "\n",
    "def inference(model, test_loader, device):\n",
    "    model.eval()\n",
    "    model.to(device)\n",
    "    \n",
    "    results = pd.read_csv('./sample_submission.csv')\n",
    "\n",
    "    for img_files, images, img_width, img_height in tqdm(iter(test_loader)):\n",
    "        images = [img.to(device) for img in images]\n",
    "\n",
    "        with torch.no_grad():\n",
    "            outputs = model(images)\n",
    "\n",
    "        for idx, output in enumerate(outputs):\n",
    "            boxes = output[\"boxes\"].cpu().numpy()\n",
    "            labels = output[\"labels\"].cpu().numpy()\n",
    "            scores = output[\"scores\"].cpu().numpy()\n",
    "\n",
    "            for box, label, score in zip(boxes, labels, scores):\n",
    "                x1, y1, x2, y2 = box\n",
    "                x1, y1, x2, y2 = box_denormalize(x1, y1, x2, y2, img_width[idx], img_height[idx])\n",
    "                # results = results.append({\n",
    "                #     \"file_name\": img_files[idx],\n",
    "                #     \"class_id\": label-1,\n",
    "                #     \"confidence\": score,\n",
    "                #     \"point1_x\": x1, \"point1_y\": y1,\n",
    "                #     \"point2_x\": x2, \"point2_y\": y1,\n",
    "                #     \"point3_x\": x2, \"point3_y\": y2,\n",
    "                #     \"point4_x\": x1, \"point4_y\": y2\n",
    "                # }, ignore_index=True)\n",
    "                results.loc[len(results)] = {\n",
    "                    \"file_name\": img_files[idx],\n",
    "                    \"class_id\": label-1,\n",
    "                    \"confidence\": score,\n",
    "                    \"point1_x\": x1, \"point1_y\": y1,\n",
    "                    \"point2_x\": x2, \"point2_y\": y1,\n",
    "                    \"point3_x\": x2, \"point3_y\": y2,\n",
    "                    \"point4_x\": x1, \"point4_y\": y2\n",
    "                }\n",
    "\n",
    "    # 결과를 CSV 파일로 저장\n",
    "    results.to_csv('baseline_submit.csv', index=False)\n",
    "    print('Done.')"
   ]
  },
  {
   "cell_type": "code",
   "execution_count": null,
   "id": "a64e14d4-e441-4685-a337-3fd0ac57165a",
   "metadata": {},
   "outputs": [],
   "source": [
    "inference(infer_model, test_loader, device)"
   ]
  }
 ],
 "metadata": {
  "kernelspec": {
   "display_name": "PyTorch 1.14 (NGC 22.12/Python 3.8) on Backend.AI",
   "language": "python",
   "name": "python3"
  },
  "language_info": {
   "codemirror_mode": {
    "name": "ipython",
    "version": 3
   },
   "file_extension": ".py",
   "mimetype": "text/x-python",
   "name": "python",
   "nbconvert_exporter": "python",
   "pygments_lexer": "ipython3",
   "version": "3.9.16"
  }
 },
 "nbformat": 4,
 "nbformat_minor": 5
}
