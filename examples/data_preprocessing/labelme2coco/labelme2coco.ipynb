{
 "cells": [
  {
   "cell_type": "code",
   "execution_count": 1,
   "metadata": {},
   "outputs": [],
   "source": [
    "import os\n",
    "import glob\n",
    "import json\n",
    "import cv2\n",
    "import datetime\n",
    "from tqdm import tqdm"
   ]
  },
  {
   "cell_type": "code",
   "execution_count": 2,
   "metadata": {},
   "outputs": [
    {
     "data": {
      "text/plain": [
       "'d:/Assignments/dacon/synthesis-car-od/'"
      ]
     },
     "execution_count": 2,
     "metadata": {},
     "output_type": "execute_result"
    }
   ],
   "source": [
    "# workding directory 세팅\n",
    "working_dir = 'synthesis-car-od'\n",
    "dir_len = len(working_dir)\n",
    "\n",
    "path = os.getcwd().replace('\\\\', '/')\n",
    "index = path.find(working_dir)\n",
    "working_dir = path[:index + dir_len + 1]\n",
    "working_dir"
   ]
  },
  {
   "cell_type": "code",
   "execution_count": 3,
   "metadata": {},
   "outputs": [],
   "source": [
    "# 데이터 경로 세팅\n",
    "DATA_PATH = os.path.join(working_dir, 'data/')\n",
    "TRAIN_PATH = os.path.join(DATA_PATH, 'train/')\n",
    "TEST_PATH = os.path.join(DATA_PATH, 'test/')"
   ]
  },
  {
   "cell_type": "code",
   "execution_count": 4,
   "metadata": {},
   "outputs": [],
   "source": [
    "# categories\n",
    "categories_list = []\n",
    "cls_id = 0\n",
    "\n",
    "with open(os.path.join(DATA_PATH, 'classes.txt'), 'r') as cls_file:\n",
    "    lines = cls_file.readlines()\n",
    "\n",
    "    for line in lines:\n",
    "        line = line.strip()\n",
    "\n",
    "        # category_name\n",
    "        category_name = line.split(',')[-1]\n",
    "\n",
    "        # categories\n",
    "        categories_list.append({\n",
    "            'id': cls_id,\n",
    "            'name' : category_name,\n",
    "        })\n",
    "\n",
    "        cls_id += 1      "
   ]
  },
  {
   "attachments": {},
   "cell_type": "markdown",
   "metadata": {},
   "source": [
    "# Train Data"
   ]
  },
  {
   "cell_type": "code",
   "execution_count": 5,
   "metadata": {},
   "outputs": [],
   "source": [
    "# 이미지, annotaion 경로\n",
    "train_imgs = sorted(glob.glob(os.path.join(TRAIN_PATH, '*.png')))\n",
    "anns = sorted(glob.glob(os.path.join(TRAIN_PATH, '*.txt')))"
   ]
  },
  {
   "cell_type": "code",
   "execution_count": 6,
   "metadata": {},
   "outputs": [
    {
     "name": "stderr",
     "output_type": "stream",
     "text": [
      "100%|██████████| 6481/6481 [05:12<00:00, 20.76it/s]\n"
     ]
    }
   ],
   "source": [
    "ISCROWD = 0\n",
    "\n",
    "train_images_list = []\n",
    "annotations_list = []\n",
    "ann_id = 0\n",
    "\n",
    "for img_id, (img, ann) in enumerate(zip(tqdm(train_imgs), anns)):\n",
    "    # date_captured\n",
    "    date_captured = os.path.getmtime(img)\n",
    "    date_captured = datetime.datetime.fromtimestamp(date_captured).strftime('%Y-%m-%d %H:%M:%S')\n",
    "\n",
    "    # file_name\n",
    "    file_name = '/'.join(img.replace('\\\\', '/').split('/')[-2:])\n",
    "\n",
    "    # width & height\n",
    "    img = cv2.imread(img)\n",
    "    img_h, img_w, _ = img.shape\n",
    "\n",
    "    # images\n",
    "    train_images_list.append({\n",
    "        'id' : img_id,\n",
    "        'width' : img_w,\n",
    "        'height' : img_h,\n",
    "        'file_name' : file_name,\n",
    "        'date_captured' : date_captured\n",
    "    })\n",
    "\n",
    "    with open(ann, 'r') as ann_file:\n",
    "        lines = ann_file.readlines()\n",
    "\n",
    "        for line in lines:\n",
    "            line = line.strip()\n",
    "\n",
    "            # category_id\n",
    "            category_id = int(float(line.split(' ')[0]))\n",
    "\n",
    "            # bbox\n",
    "            bbox = list(map(lambda x : float(x), line.split(' ')[1:]))\n",
    "\n",
    "            xs = [bbox[i] for i in range(0, 8, 2)]\n",
    "            ys = [bbox[i] for i in range(1, 8, 2)]\n",
    "\n",
    "            x_min = min(xs)\n",
    "            y_min = min(ys)\n",
    "            x_max = max(xs)\n",
    "            y_max = max(ys)\n",
    "\n",
    "            width = x_max - x_min \n",
    "            height = y_max - y_min\n",
    "\n",
    "            bbox = [x_min, y_min, width, height]\n",
    "\n",
    "            # annotations\n",
    "            annotations_list.append({\n",
    "                'id' : ann_id,\n",
    "                'image_id' : img_id,\n",
    "                'category_id' : category_id,\n",
    "                'bbox' : bbox,\n",
    "                'iscrowd' : ISCROWD,\n",
    "            })\n",
    "\n",
    "            ann_id += 1\n",
    "    "
   ]
  },
  {
   "cell_type": "code",
   "execution_count": 7,
   "metadata": {},
   "outputs": [],
   "source": [
    "coco_train = {\n",
    "    'categories' : categories_list,\n",
    "    'images' : train_images_list,\n",
    "    'annotations' : annotations_list,\n",
    "}"
   ]
  },
  {
   "cell_type": "code",
   "execution_count": 8,
   "metadata": {},
   "outputs": [],
   "source": [
    "with open(os.path.join(DATA_PATH, 'coco_train.json'), 'w') as file:\n",
    "    json.dump(coco_train, file, indent=2)"
   ]
  },
  {
   "attachments": {},
   "cell_type": "markdown",
   "metadata": {},
   "source": [
    "# Test Data"
   ]
  },
  {
   "cell_type": "code",
   "execution_count": 9,
   "metadata": {},
   "outputs": [],
   "source": [
    "# test 이미지 경로\n",
    "test_imgs = sorted(glob.glob(os.path.join(TEST_PATH, '*.png')))"
   ]
  },
  {
   "cell_type": "code",
   "execution_count": 10,
   "metadata": {},
   "outputs": [
    {
     "name": "stderr",
     "output_type": "stream",
     "text": [
      "100%|██████████| 3400/3400 [02:41<00:00, 21.03it/s]\n"
     ]
    }
   ],
   "source": [
    "test_images_list = []\n",
    "\n",
    "for img_id, img in enumerate(tqdm(test_imgs)):\n",
    "    # date_captured\n",
    "    date_captured = os.path.getmtime(img)\n",
    "    date_captured = datetime.datetime.fromtimestamp(date_captured).strftime('%Y-%m-%d %H:%M:%S')\n",
    "\n",
    "    # file_name\n",
    "    file_name = '/'.join(img.replace('\\\\', '/').split('/')[-2:])\n",
    "\n",
    "    # width & height\n",
    "    img = cv2.imread(img)\n",
    "    img_h, img_w, _ = img.shape\n",
    "\n",
    "    # images\n",
    "    test_images_list.append({\n",
    "        'id' : img_id,\n",
    "        'width' : img_w,\n",
    "        'height' : img_h,\n",
    "        'file_name' : file_name,\n",
    "        'date_captured' : date_captured\n",
    "    })\n",
    "    "
   ]
  },
  {
   "cell_type": "code",
   "execution_count": 11,
   "metadata": {},
   "outputs": [],
   "source": [
    "coco_test = {\n",
    "    'categories' : categories_list,\n",
    "    'images' : test_images_list,\n",
    "    'annotations' : [],\n",
    "}"
   ]
  },
  {
   "cell_type": "code",
   "execution_count": 12,
   "metadata": {},
   "outputs": [],
   "source": [
    "with open(os.path.join(DATA_PATH, 'coco_test.json'), 'w') as file:\n",
    "    json.dump(coco_test, file, indent=2)"
   ]
  }
 ],
 "metadata": {
  "kernelspec": {
   "display_name": "synthesis-car-od",
   "language": "python",
   "name": "python3"
  },
  "language_info": {
   "codemirror_mode": {
    "name": "ipython",
    "version": 3
   },
   "file_extension": ".py",
   "mimetype": "text/x-python",
   "name": "python",
   "nbconvert_exporter": "python",
   "pygments_lexer": "ipython3",
   "version": "3.9.16"
  },
  "orig_nbformat": 4
 },
 "nbformat": 4,
 "nbformat_minor": 2
}
