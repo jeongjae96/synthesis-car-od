{
 "cells": [
  {
   "cell_type": "code",
   "execution_count": 1,
   "metadata": {},
   "outputs": [],
   "source": [
    "import os\n",
    "import glob\n",
    "\n",
    "import pandas as pd\n",
    "\n",
    "from sklearn.model_selection import StratifiedGroupKFold"
   ]
  },
  {
   "cell_type": "code",
   "execution_count": 2,
   "metadata": {},
   "outputs": [
    {
     "data": {
      "text/plain": [
       "'/Users/a16/Desktop/JJ/self_study/projects/synthesis-car-od/'"
      ]
     },
     "execution_count": 2,
     "metadata": {},
     "output_type": "execute_result"
    }
   ],
   "source": [
    "# workding directory 세팅\n",
    "working_dir = 'synthesis-car-od'\n",
    "dir_len = len(working_dir)\n",
    "\n",
    "path = os.getcwd().replace('\\\\', '/')\n",
    "index = path.find(working_dir)\n",
    "working_dir = path[:index + dir_len + 1]\n",
    "working_dir"
   ]
  },
  {
   "cell_type": "code",
   "execution_count": 3,
   "metadata": {},
   "outputs": [],
   "source": [
    "# 데이터 경로 세팅\n",
    "DATA_PATH = os.path.join(working_dir, 'data/')\n",
    "TRAIN_PATH = os.path.join(DATA_PATH, 'train/')"
   ]
  },
  {
   "cell_type": "code",
   "execution_count": 4,
   "metadata": {},
   "outputs": [
    {
     "data": {
      "text/plain": [
       "['/Users/a16/Desktop/JJ/self_study/projects/synthesis-car-od/data/train/syn_00000.png',\n",
       " '/Users/a16/Desktop/JJ/self_study/projects/synthesis-car-od/data/train/syn_00001.png',\n",
       " '/Users/a16/Desktop/JJ/self_study/projects/synthesis-car-od/data/train/syn_00002.png',\n",
       " '/Users/a16/Desktop/JJ/self_study/projects/synthesis-car-od/data/train/syn_00003.png',\n",
       " '/Users/a16/Desktop/JJ/self_study/projects/synthesis-car-od/data/train/syn_00004.png']"
      ]
     },
     "execution_count": 4,
     "metadata": {},
     "output_type": "execute_result"
    }
   ],
   "source": [
    "# 이미지 경로\n",
    "imgs = sorted(glob.glob(os.path.join(TRAIN_PATH, '*.png')))\n",
    "imgs[:5]"
   ]
  },
  {
   "cell_type": "code",
   "execution_count": 5,
   "metadata": {},
   "outputs": [
    {
     "data": {
      "text/plain": [
       "['/Users/a16/Desktop/JJ/self_study/projects/synthesis-car-od/data/train/syn_00000.txt',\n",
       " '/Users/a16/Desktop/JJ/self_study/projects/synthesis-car-od/data/train/syn_00001.txt',\n",
       " '/Users/a16/Desktop/JJ/self_study/projects/synthesis-car-od/data/train/syn_00002.txt',\n",
       " '/Users/a16/Desktop/JJ/self_study/projects/synthesis-car-od/data/train/syn_00003.txt',\n",
       " '/Users/a16/Desktop/JJ/self_study/projects/synthesis-car-od/data/train/syn_00004.txt']"
      ]
     },
     "execution_count": 5,
     "metadata": {},
     "output_type": "execute_result"
    }
   ],
   "source": [
    "# label txt 경로\n",
    "txts = sorted(glob.glob(os.path.join(TRAIN_PATH, '*.txt')))\n",
    "txts[:5]"
   ]
  },
  {
   "cell_type": "code",
   "execution_count": 6,
   "metadata": {},
   "outputs": [
    {
     "name": "stdout",
     "output_type": "stream",
     "text": [
      "['syn_00000.png', 'syn_00000.png', 'syn_00000.png', 'syn_00001.png', 'syn_00001.png']\n",
      "['syn_00000.txt', 'syn_00000.txt', 'syn_00000.txt', 'syn_00001.txt', 'syn_00001.txt']\n",
      "[9, 25, 12, 16, 14]\n",
      "['1037 209 1312 209 1312 448 1037 448', '804 425 1127 425 1127 783 804 783', '330 250 583 250 583 511 330 511', '1000 98 1295 98 1295 405 1000 405', '678 175 926 175 926 421 678 421']\n"
     ]
    }
   ],
   "source": [
    "img_names = []\n",
    "txt_names = []\n",
    "labels = []\n",
    "bboxes = []\n",
    "\n",
    "for img, txt in zip(imgs, txts):\n",
    "    img_name = img.replace('\\\\', '/').split('/')[-1]\n",
    "    txt_name = txt.replace('\\\\', '/').split('/')[-1]\n",
    "\n",
    "    with open(txt, 'r') as t:\n",
    "        lines = t.readlines()\n",
    "\n",
    "        for line in lines:\n",
    "            line = line.strip()\n",
    "            label = int(float(line.split(' ')[0]))\n",
    "            bbox = ' '.join(line.split(' ')[1:])\n",
    "\n",
    "            img_names.append(img_name)\n",
    "            txt_names.append(txt_name)\n",
    "            labels.append(label)\n",
    "            bboxes.append(bbox)\n",
    "\n",
    "print(img_names[:5])\n",
    "print(txt_names[:5])\n",
    "print(labels[:5])\n",
    "print(bboxes[:5])"
   ]
  },
  {
   "cell_type": "code",
   "execution_count": 7,
   "metadata": {},
   "outputs": [
    {
     "data": {
      "text/html": [
       "<div>\n",
       "<style scoped>\n",
       "    .dataframe tbody tr th:only-of-type {\n",
       "        vertical-align: middle;\n",
       "    }\n",
       "\n",
       "    .dataframe tbody tr th {\n",
       "        vertical-align: top;\n",
       "    }\n",
       "\n",
       "    .dataframe thead th {\n",
       "        text-align: right;\n",
       "    }\n",
       "</style>\n",
       "<table border=\"1\" class=\"dataframe\">\n",
       "  <thead>\n",
       "    <tr style=\"text-align: right;\">\n",
       "      <th></th>\n",
       "      <th>img</th>\n",
       "      <th>txt</th>\n",
       "      <th>label</th>\n",
       "      <th>bbox</th>\n",
       "    </tr>\n",
       "  </thead>\n",
       "  <tbody>\n",
       "    <tr>\n",
       "      <th>0</th>\n",
       "      <td>syn_00000.png</td>\n",
       "      <td>syn_00000.txt</td>\n",
       "      <td>9</td>\n",
       "      <td>1037 209 1312 209 1312 448 1037 448</td>\n",
       "    </tr>\n",
       "    <tr>\n",
       "      <th>1</th>\n",
       "      <td>syn_00000.png</td>\n",
       "      <td>syn_00000.txt</td>\n",
       "      <td>25</td>\n",
       "      <td>804 425 1127 425 1127 783 804 783</td>\n",
       "    </tr>\n",
       "    <tr>\n",
       "      <th>2</th>\n",
       "      <td>syn_00000.png</td>\n",
       "      <td>syn_00000.txt</td>\n",
       "      <td>12</td>\n",
       "      <td>330 250 583 250 583 511 330 511</td>\n",
       "    </tr>\n",
       "    <tr>\n",
       "      <th>3</th>\n",
       "      <td>syn_00001.png</td>\n",
       "      <td>syn_00001.txt</td>\n",
       "      <td>16</td>\n",
       "      <td>1000 98 1295 98 1295 405 1000 405</td>\n",
       "    </tr>\n",
       "    <tr>\n",
       "      <th>4</th>\n",
       "      <td>syn_00001.png</td>\n",
       "      <td>syn_00001.txt</td>\n",
       "      <td>14</td>\n",
       "      <td>678 175 926 175 926 421 678 421</td>\n",
       "    </tr>\n",
       "  </tbody>\n",
       "</table>\n",
       "</div>"
      ],
      "text/plain": [
       "             img            txt  label                                 bbox\n",
       "0  syn_00000.png  syn_00000.txt      9  1037 209 1312 209 1312 448 1037 448\n",
       "1  syn_00000.png  syn_00000.txt     25    804 425 1127 425 1127 783 804 783\n",
       "2  syn_00000.png  syn_00000.txt     12      330 250 583 250 583 511 330 511\n",
       "3  syn_00001.png  syn_00001.txt     16    1000 98 1295 98 1295 405 1000 405\n",
       "4  syn_00001.png  syn_00001.txt     14      678 175 926 175 926 421 678 421"
      ]
     },
     "execution_count": 7,
     "metadata": {},
     "output_type": "execute_result"
    }
   ],
   "source": [
    "train_df = pd.DataFrame({\n",
    "    'img' : img_names,\n",
    "    'txt' : txt_names,\n",
    "    'label' : labels,\n",
    "    'bbox' : bboxes\n",
    "})\n",
    "train_df.head()"
   ]
  },
  {
   "cell_type": "code",
   "execution_count": 8,
   "metadata": {},
   "outputs": [],
   "source": [
    "SEED = 41"
   ]
  },
  {
   "cell_type": "code",
   "execution_count": 9,
   "metadata": {},
   "outputs": [],
   "source": [
    "sgkf = StratifiedGroupKFold(\n",
    "    n_splits=5,\n",
    "    shuffle=True,\n",
    "    random_state=SEED\n",
    ")"
   ]
  },
  {
   "cell_type": "code",
   "execution_count": 10,
   "metadata": {},
   "outputs": [
    {
     "name": "stdout",
     "output_type": "stream",
     "text": [
      "[array([    3,     4,     5, ..., 16993, 16997, 16998]), array([    0,     1,     2, ..., 16995, 16996, 16999]), array([    0,     1,     2, ..., 16997, 16998, 16999]), array([    0,     1,     2, ..., 16997, 16998, 16999]), array([    0,     1,     2, ..., 16997, 16998, 16999])]\n",
      "[array([    0,     1,     2, ..., 16995, 16996, 16999]), array([    6,     7,    10, ..., 16982, 16997, 16998]), array([   19,    20,    34, ..., 16986, 16987, 16988]), array([    3,     4,     5, ..., 16977, 16978, 16979]), array([   16,    17,    18, ..., 16973, 16992, 16993])]\n"
     ]
    }
   ],
   "source": [
    "train_indices = []\n",
    "val_indices = []\n",
    "\n",
    "for train_idx, val_idx in sgkf.split(train_df['img'], train_df['label'], train_df['img']):\n",
    "    train_indices.append(train_idx)\n",
    "    val_indices.append(val_idx)\n",
    "\n",
    "print(train_indices)\n",
    "print(val_indices)"
   ]
  },
  {
   "cell_type": "code",
   "execution_count": 11,
   "metadata": {},
   "outputs": [
    {
     "name": "stdout",
     "output_type": "stream",
     "text": [
      "fold0\n",
      "train fold0\n"
     ]
    },
    {
     "data": {
      "text/plain": [
       "label\n",
       "0     403\n",
       "1     404\n",
       "2     415\n",
       "3     390\n",
       "4     409\n",
       "5     395\n",
       "6     387\n",
       "7     399\n",
       "8     389\n",
       "9     404\n",
       "10    411\n",
       "11    404\n",
       "12    404\n",
       "13    402\n",
       "14    392\n",
       "15    402\n",
       "16    389\n",
       "17    411\n",
       "18    414\n",
       "19    409\n",
       "20    410\n",
       "21    395\n",
       "22    398\n",
       "23    397\n",
       "24    382\n",
       "25    405\n",
       "26    412\n",
       "27    408\n",
       "28    393\n",
       "29    391\n",
       "30    399\n",
       "31    413\n",
       "32    390\n",
       "33    399\n",
       "Name: count, dtype: int64"
      ]
     },
     "metadata": {},
     "output_type": "display_data"
    },
    {
     "name": "stdout",
     "output_type": "stream",
     "text": [
      "val_fold0\n"
     ]
    },
    {
     "data": {
      "text/plain": [
       "label\n",
       "0      97\n",
       "1      96\n",
       "2      85\n",
       "3     110\n",
       "4      91\n",
       "5     105\n",
       "6     113\n",
       "7     101\n",
       "8     111\n",
       "9      96\n",
       "10     89\n",
       "11     96\n",
       "12     96\n",
       "13     98\n",
       "14    108\n",
       "15     98\n",
       "16    111\n",
       "17     89\n",
       "18     86\n",
       "19     91\n",
       "20     90\n",
       "21    105\n",
       "22    102\n",
       "23    103\n",
       "24    118\n",
       "25     95\n",
       "26     88\n",
       "27     92\n",
       "28    107\n",
       "29    109\n",
       "30    101\n",
       "31     87\n",
       "32    110\n",
       "33    101\n",
       "Name: count, dtype: int64"
      ]
     },
     "metadata": {},
     "output_type": "display_data"
    },
    {
     "name": "stdout",
     "output_type": "stream",
     "text": [
      "fold1\n",
      "train fold1\n"
     ]
    },
    {
     "data": {
      "text/plain": [
       "label\n",
       "0     420\n",
       "1     405\n",
       "2     396\n",
       "3     397\n",
       "4     404\n",
       "5     411\n",
       "6     405\n",
       "7     409\n",
       "8     397\n",
       "9     403\n",
       "10    395\n",
       "11    403\n",
       "12    398\n",
       "13    404\n",
       "14    395\n",
       "15    403\n",
       "16    404\n",
       "17    390\n",
       "18    393\n",
       "19    400\n",
       "20    404\n",
       "21    384\n",
       "22    386\n",
       "23    405\n",
       "24    403\n",
       "25    412\n",
       "26    382\n",
       "27    397\n",
       "28    402\n",
       "29    405\n",
       "30    395\n",
       "31    392\n",
       "32    402\n",
       "33    397\n",
       "Name: count, dtype: int64"
      ]
     },
     "metadata": {},
     "output_type": "display_data"
    },
    {
     "name": "stdout",
     "output_type": "stream",
     "text": [
      "val_fold1\n"
     ]
    },
    {
     "data": {
      "text/plain": [
       "label\n",
       "0      80\n",
       "1      95\n",
       "2     104\n",
       "3     103\n",
       "4      96\n",
       "5      89\n",
       "6      95\n",
       "7      91\n",
       "8     103\n",
       "9      97\n",
       "10    105\n",
       "11     97\n",
       "12    102\n",
       "13     96\n",
       "14    105\n",
       "15     97\n",
       "16     96\n",
       "17    110\n",
       "18    107\n",
       "19    100\n",
       "20     96\n",
       "21    116\n",
       "22    114\n",
       "23     95\n",
       "24     97\n",
       "25     88\n",
       "26    118\n",
       "27    103\n",
       "28     98\n",
       "29     95\n",
       "30    105\n",
       "31    108\n",
       "32     98\n",
       "33    103\n",
       "Name: count, dtype: int64"
      ]
     },
     "metadata": {},
     "output_type": "display_data"
    },
    {
     "name": "stdout",
     "output_type": "stream",
     "text": [
      "fold2\n",
      "train fold2\n"
     ]
    },
    {
     "data": {
      "text/plain": [
       "label\n",
       "0     395\n",
       "1     400\n",
       "2     402\n",
       "3     416\n",
       "4     402\n",
       "5     387\n",
       "6     398\n",
       "7     398\n",
       "8     414\n",
       "9     401\n",
       "10    402\n",
       "11    400\n",
       "12    396\n",
       "13    406\n",
       "14    412\n",
       "15    393\n",
       "16    397\n",
       "17    398\n",
       "18    397\n",
       "19    397\n",
       "20    410\n",
       "21    406\n",
       "22    404\n",
       "23    406\n",
       "24    407\n",
       "25    394\n",
       "26    398\n",
       "27    409\n",
       "28    382\n",
       "29    387\n",
       "30    408\n",
       "31    397\n",
       "32    407\n",
       "33    387\n",
       "Name: count, dtype: int64"
      ]
     },
     "metadata": {},
     "output_type": "display_data"
    },
    {
     "name": "stdout",
     "output_type": "stream",
     "text": [
      "val_fold2\n"
     ]
    },
    {
     "data": {
      "text/plain": [
       "label\n",
       "0     105\n",
       "1     100\n",
       "2      98\n",
       "3      84\n",
       "4      98\n",
       "5     113\n",
       "6     102\n",
       "7     102\n",
       "8      86\n",
       "9      99\n",
       "10     98\n",
       "11    100\n",
       "12    104\n",
       "13     94\n",
       "14     88\n",
       "15    107\n",
       "16    103\n",
       "17    102\n",
       "18    103\n",
       "19    103\n",
       "20     90\n",
       "21     94\n",
       "22     96\n",
       "23     94\n",
       "24     93\n",
       "25    106\n",
       "26    102\n",
       "27     91\n",
       "28    118\n",
       "29    113\n",
       "30     92\n",
       "31    103\n",
       "32     93\n",
       "33    113\n",
       "Name: count, dtype: int64"
      ]
     },
     "metadata": {},
     "output_type": "display_data"
    },
    {
     "name": "stdout",
     "output_type": "stream",
     "text": [
      "fold3\n",
      "train fold3\n"
     ]
    },
    {
     "data": {
      "text/plain": [
       "label\n",
       "0     392\n",
       "1     398\n",
       "2     400\n",
       "3     385\n",
       "4     392\n",
       "5     402\n",
       "6     396\n",
       "7     406\n",
       "8     401\n",
       "9     401\n",
       "10    393\n",
       "11    386\n",
       "12    398\n",
       "13    389\n",
       "14    401\n",
       "15    405\n",
       "16    407\n",
       "17    406\n",
       "18    406\n",
       "19    396\n",
       "20    372\n",
       "21    404\n",
       "22    412\n",
       "23    407\n",
       "24    396\n",
       "25    391\n",
       "26    392\n",
       "27    402\n",
       "28    413\n",
       "29    404\n",
       "30    399\n",
       "31    412\n",
       "32    403\n",
       "33    422\n",
       "Name: count, dtype: int64"
      ]
     },
     "metadata": {},
     "output_type": "display_data"
    },
    {
     "name": "stdout",
     "output_type": "stream",
     "text": [
      "val_fold3\n"
     ]
    },
    {
     "data": {
      "text/plain": [
       "label\n",
       "0     108\n",
       "1     102\n",
       "2     100\n",
       "3     115\n",
       "4     108\n",
       "5      98\n",
       "6     104\n",
       "7      94\n",
       "8      99\n",
       "9      99\n",
       "10    107\n",
       "11    114\n",
       "12    102\n",
       "13    111\n",
       "14     99\n",
       "15     95\n",
       "16     93\n",
       "17     94\n",
       "18     94\n",
       "19    104\n",
       "20    128\n",
       "21     96\n",
       "22     88\n",
       "23     93\n",
       "24    104\n",
       "25    109\n",
       "26    108\n",
       "27     98\n",
       "28     87\n",
       "29     96\n",
       "30    101\n",
       "31     88\n",
       "32     97\n",
       "33     78\n",
       "Name: count, dtype: int64"
      ]
     },
     "metadata": {},
     "output_type": "display_data"
    },
    {
     "name": "stdout",
     "output_type": "stream",
     "text": [
      "fold4\n",
      "train fold4\n"
     ]
    },
    {
     "data": {
      "text/plain": [
       "label\n",
       "0     390\n",
       "1     393\n",
       "2     387\n",
       "3     412\n",
       "4     393\n",
       "5     405\n",
       "6     414\n",
       "7     388\n",
       "8     399\n",
       "9     391\n",
       "10    399\n",
       "11    407\n",
       "12    404\n",
       "13    399\n",
       "14    400\n",
       "15    397\n",
       "16    403\n",
       "17    395\n",
       "18    390\n",
       "19    398\n",
       "20    404\n",
       "21    411\n",
       "22    400\n",
       "23    385\n",
       "24    412\n",
       "25    398\n",
       "26    416\n",
       "27    384\n",
       "28    410\n",
       "29    413\n",
       "30    399\n",
       "31    386\n",
       "32    398\n",
       "33    395\n",
       "Name: count, dtype: int64"
      ]
     },
     "metadata": {},
     "output_type": "display_data"
    },
    {
     "name": "stdout",
     "output_type": "stream",
     "text": [
      "val_fold4\n"
     ]
    },
    {
     "data": {
      "text/plain": [
       "label\n",
       "0     110\n",
       "1     107\n",
       "2     113\n",
       "3      88\n",
       "4     107\n",
       "5      95\n",
       "6      86\n",
       "7     112\n",
       "8     101\n",
       "9     109\n",
       "10    101\n",
       "11     93\n",
       "12     96\n",
       "13    101\n",
       "14    100\n",
       "15    103\n",
       "16     97\n",
       "17    105\n",
       "18    110\n",
       "19    102\n",
       "20     96\n",
       "21     89\n",
       "22    100\n",
       "23    115\n",
       "24     88\n",
       "25    102\n",
       "26     84\n",
       "27    116\n",
       "28     90\n",
       "29     87\n",
       "30    101\n",
       "31    114\n",
       "32    102\n",
       "33    105\n",
       "Name: count, dtype: int64"
      ]
     },
     "metadata": {},
     "output_type": "display_data"
    }
   ],
   "source": [
    "for i, (train_idx, val_idx) in enumerate(zip(train_indices, val_indices)):\n",
    "    print(f'fold{i}')\n",
    "    print(f'train fold{i}')\n",
    "    display(train_df.iloc[train_idx, 2].value_counts().sort_index())\n",
    "    print(f'val_fold{i}')\n",
    "    display(train_df.iloc[val_idx, 2].value_counts().sort_index())"
   ]
  }
 ],
 "metadata": {
  "kernelspec": {
   "display_name": "synthesis-car-od",
   "language": "python",
   "name": "python3"
  },
  "language_info": {
   "codemirror_mode": {
    "name": "ipython",
    "version": 3
   },
   "file_extension": ".py",
   "mimetype": "text/x-python",
   "name": "python",
   "nbconvert_exporter": "python",
   "pygments_lexer": "ipython3",
   "version": "3.9.16"
  },
  "orig_nbformat": 4
 },
 "nbformat": 4,
 "nbformat_minor": 2
}
