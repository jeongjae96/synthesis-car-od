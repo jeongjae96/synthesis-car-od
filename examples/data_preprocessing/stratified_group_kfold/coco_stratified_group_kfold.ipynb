{
 "cells": [
  {
   "cell_type": "code",
   "execution_count": 1,
   "metadata": {},
   "outputs": [],
   "source": [
    "import os\n",
    "import numpy as np\n",
    "import json\n",
    "from sklearn.model_selection import StratifiedGroupKFold"
   ]
  },
  {
   "cell_type": "code",
   "execution_count": 2,
   "metadata": {},
   "outputs": [
    {
     "data": {
      "text/plain": [
       "'d:/Assignments/dacon/synthesis-car-od/'"
      ]
     },
     "execution_count": 2,
     "metadata": {},
     "output_type": "execute_result"
    }
   ],
   "source": [
    "# workding directory 세팅\n",
    "working_dir = 'synthesis-car-od'\n",
    "dir_len = len(working_dir)\n",
    "\n",
    "path = os.getcwd().replace('\\\\', '/')\n",
    "index = path.find(working_dir)\n",
    "working_dir = path[:index + dir_len + 1]\n",
    "working_dir"
   ]
  },
  {
   "cell_type": "code",
   "execution_count": 3,
   "metadata": {},
   "outputs": [],
   "source": [
    "# 데이터 경로 세팅\n",
    "DATA_PATH = os.path.join(working_dir, 'data/')"
   ]
  },
  {
   "cell_type": "code",
   "execution_count": 4,
   "metadata": {},
   "outputs": [],
   "source": [
    "sgkf = StratifiedGroupKFold(\n",
    "    n_splits=4,\n",
    "    shuffle=True,\n",
    "    random_state=41\n",
    ")"
   ]
  },
  {
   "cell_type": "code",
   "execution_count": 5,
   "metadata": {},
   "outputs": [
    {
     "name": "stdout",
     "output_type": "stream",
     "text": [
      "fold0\n",
      "[   0    1    2 ... 6477 6478 6480]\n",
      "[   5    6   10 ... 6466 6476 6479]\n",
      "\n",
      "fold1\n",
      "[   0    1    2 ... 6478 6479 6480]\n",
      "[   3    7    9 ... 6464 6468 6469]\n",
      "\n",
      "fold2\n",
      "[   2    3    4 ... 6476 6479 6480]\n",
      "[   0    1    8 ... 6475 6477 6478]\n",
      "\n",
      "fold3\n",
      "[   0    1    3 ... 6477 6478 6479]\n",
      "[   2    4   17 ... 6460 6473 6480]\n",
      "\n"
     ]
    }
   ],
   "source": [
    "train_image_indices = []\n",
    "val_image_indices = []\n",
    "\n",
    "train_indices = []\n",
    "val_indices = []\n",
    "\n",
    "with open(os.path.join(DATA_PATH, 'coco_train.json'), 'r') as coco_train:\n",
    "    coco_train = json.load(coco_train)\n",
    "\n",
    "    images = coco_train['images']\n",
    "    annotations = coco_train['annotations']\n",
    "    categories = coco_train['categories']\n",
    "\n",
    "    image_ids = np.array([ann['image_id'] for ann in annotations])\n",
    "    category_ids = [ann['category_id'] for ann in annotations]\n",
    "\n",
    "    for i, (train_id, val_id) in enumerate(sgkf.split(image_ids, category_ids, image_ids)):\n",
    "        train_image_id = np.unique(image_ids[train_id])\n",
    "        val_image_id = np.unique(image_ids[val_id])\n",
    "\n",
    "        train_image_indices.append(train_image_id)\n",
    "        val_image_indices.append(val_image_id)\n",
    "\n",
    "        train_indices.append(train_id)\n",
    "        val_indices.append(val_id)\n",
    "\n",
    "        print(f'fold{i}')\n",
    "        print(train_image_id)\n",
    "        print(val_image_id)\n",
    "        print()"
   ]
  },
  {
   "cell_type": "code",
   "execution_count": 6,
   "metadata": {},
   "outputs": [
    {
     "name": "stdout",
     "output_type": "stream",
     "text": [
      "train fold0 length: 4860\n",
      "val fold0 length: 1621\n",
      "\n",
      "train fold1 length: 4859\n",
      "val fold1 length: 1622\n",
      "\n",
      "train fold2 length: 4860\n",
      "val fold2 length: 1621\n",
      "\n",
      "train fold3 length: 4864\n",
      "val fold3 length: 1617\n",
      "\n"
     ]
    }
   ],
   "source": [
    "for i, (train_image_id, val_image_id) in enumerate(zip(train_image_indices, val_image_indices)):\n",
    "\n",
    "    print(f'train fold{i} length: {len(train_image_id)}')\n",
    "    print(f'val fold{i} length: {len(val_image_id)}')\n",
    "    print()"
   ]
  },
  {
   "cell_type": "code",
   "execution_count": 7,
   "metadata": {},
   "outputs": [
    {
     "name": "stdout",
     "output_type": "stream",
     "text": [
      "fold0\n",
      "set()\n",
      "\n",
      "fold1\n",
      "set()\n",
      "\n",
      "fold2\n",
      "set()\n",
      "\n",
      "fold3\n",
      "set()\n",
      "\n"
     ]
    }
   ],
   "source": [
    "for i, (train_image_id, val_image_id) in enumerate(zip(train_image_indices, val_image_indices)):\n",
    "    print(f'fold{i}')\n",
    "    print(set(train_image_id) & set(val_image_id))\n",
    "    print()"
   ]
  },
  {
   "cell_type": "code",
   "execution_count": 8,
   "metadata": {},
   "outputs": [
    {
     "name": "stdout",
     "output_type": "stream",
     "text": [
      "train fold0\n",
      "{0: 385, 1: 379, 2: 384, 3: 378, 4: 390, 5: 371, 6: 381, 7: 389, 8: 379, 9: 369, 10: 360, 11: 366, 12: 382, 13: 376, 14: 376, 15: 359, 16: 369, 17: 364, 18: 369, 19: 384, 20: 377, 21: 364, 22: 367, 23: 367, 24: 368, 25: 366, 26: 379, 27: 381, 28: 367, 29: 387, 30: 377, 31: 377, 32: 370, 33: 378}\n",
      "\n",
      "val fold0\n",
      "{0: 115, 1: 121, 2: 116, 3: 122, 4: 110, 5: 129, 6: 119, 7: 111, 8: 121, 9: 131, 10: 140, 11: 134, 12: 118, 13: 124, 14: 124, 15: 141, 16: 131, 17: 136, 18: 131, 19: 116, 20: 123, 21: 136, 22: 133, 23: 133, 24: 132, 25: 134, 26: 121, 27: 119, 28: 133, 29: 113, 30: 123, 31: 123, 32: 130, 33: 122}\n",
      "\n",
      "train fold1\n",
      "{0: 375, 1: 368, 2: 370, 3: 377, 4: 369, 5: 384, 6: 385, 7: 366, 8: 370, 9: 377, 10: 364, 11: 378, 12: 368, 13: 385, 14: 367, 15: 388, 16: 375, 17: 397, 18: 387, 19: 351, 20: 368, 21: 387, 22: 376, 23: 390, 24: 369, 25: 380, 26: 362, 27: 371, 28: 362, 29: 373, 30: 379, 31: 378, 32: 364, 33: 379}\n",
      "\n",
      "val fold1\n",
      "{0: 125, 1: 132, 2: 130, 3: 123, 4: 131, 5: 116, 6: 115, 7: 134, 8: 130, 9: 123, 10: 136, 11: 122, 12: 132, 13: 115, 14: 133, 15: 112, 16: 125, 17: 103, 18: 113, 19: 149, 20: 132, 21: 113, 22: 124, 23: 110, 24: 131, 25: 120, 26: 138, 27: 129, 28: 138, 29: 127, 30: 121, 31: 122, 32: 136, 33: 121}\n",
      "\n",
      "train fold2\n",
      "{0: 382, 1: 379, 2: 390, 3: 375, 4: 378, 5: 382, 6: 375, 7: 367, 8: 372, 9: 381, 10: 383, 11: 374, 12: 382, 13: 385, 14: 380, 15: 358, 16: 381, 17: 389, 18: 370, 19: 371, 20: 378, 21: 379, 22: 361, 23: 369, 24: 380, 25: 376, 26: 370, 27: 371, 28: 383, 29: 355, 30: 372, 31: 380, 32: 388, 33: 366}\n",
      "\n",
      "val fold2\n",
      "{0: 118, 1: 121, 2: 110, 3: 125, 4: 122, 5: 118, 6: 125, 7: 133, 8: 128, 9: 119, 10: 117, 11: 126, 12: 118, 13: 115, 14: 120, 15: 142, 16: 119, 17: 111, 18: 130, 19: 129, 20: 122, 21: 121, 22: 139, 23: 131, 24: 120, 25: 124, 26: 130, 27: 129, 28: 117, 29: 145, 30: 128, 31: 120, 32: 112, 33: 134}\n",
      "\n",
      "train fold3\n",
      "{0: 358, 1: 374, 2: 356, 3: 370, 4: 363, 5: 363, 6: 359, 7: 378, 8: 379, 9: 373, 10: 393, 11: 382, 12: 368, 13: 354, 14: 377, 15: 395, 16: 375, 17: 350, 18: 374, 19: 394, 20: 377, 21: 370, 22: 396, 23: 374, 24: 383, 25: 378, 26: 389, 27: 377, 28: 388, 29: 385, 30: 372, 31: 365, 32: 378, 33: 377}\n",
      "\n",
      "val fold3\n",
      "{0: 142, 1: 126, 2: 144, 3: 130, 4: 137, 5: 137, 6: 141, 7: 122, 8: 121, 9: 127, 10: 107, 11: 118, 12: 132, 13: 146, 14: 123, 15: 105, 16: 125, 17: 150, 18: 126, 19: 106, 20: 123, 21: 130, 22: 104, 23: 126, 24: 117, 25: 122, 26: 111, 27: 123, 28: 112, 29: 115, 30: 128, 31: 135, 32: 122, 33: 123}\n",
      "\n"
     ]
    }
   ],
   "source": [
    "category_count = dict()\n",
    "\n",
    "with open(os.path.join(DATA_PATH, 'coco_train.json'), 'r') as coco_train:\n",
    "    coco_train = json.load(coco_train)\n",
    "\n",
    "    annotations = coco_train['annotations']\n",
    "\n",
    "    category_ids = np.array([ann['category_id'] for ann in annotations])\n",
    "\n",
    "    for i, (train_id, val_id) in enumerate(zip(train_indices, val_indices)):\n",
    "        train_category_ids = category_ids[train_id]\n",
    "        val_category_ids = category_ids[val_id]\n",
    "\n",
    "        print(f'train fold{i}')\n",
    "        unique, counts = np.unique(train_category_ids, return_counts=True)\n",
    "        print(dict(zip(unique, counts)))\n",
    "        print()\n",
    "\n",
    "        print(f'val fold{i}')\n",
    "        unique, counts = np.unique(val_category_ids, return_counts=True)\n",
    "        print(dict(zip(unique, counts)))\n",
    "        print()\n"
   ]
  }
 ],
 "metadata": {
  "kernelspec": {
   "display_name": "synthesis-car-od",
   "language": "python",
   "name": "python3"
  },
  "language_info": {
   "codemirror_mode": {
    "name": "ipython",
    "version": 3
   },
   "file_extension": ".py",
   "mimetype": "text/x-python",
   "name": "python",
   "nbconvert_exporter": "python",
   "pygments_lexer": "ipython3",
   "version": "3.9.16"
  },
  "orig_nbformat": 4
 },
 "nbformat": 4,
 "nbformat_minor": 2
}
