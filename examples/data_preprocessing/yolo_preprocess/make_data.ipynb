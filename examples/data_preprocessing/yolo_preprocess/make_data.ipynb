{
 "cells": [
  {
   "cell_type": "code",
   "execution_count": 1,
   "metadata": {},
   "outputs": [],
   "source": [
    "import os\n",
    "import glob\n",
    "from tqdm import tqdm\n",
    "\n",
    "import pandas as pd\n",
    "import cv2\n",
    "\n",
    "from sklearn.model_selection import StratifiedGroupKFold"
   ]
  },
  {
   "cell_type": "code",
   "execution_count": 2,
   "metadata": {},
   "outputs": [
    {
     "data": {
      "text/plain": [
       "'/Users/a16/Desktop/JJ/self_study/projects/synthesis-car-od/'"
      ]
     },
     "execution_count": 2,
     "metadata": {},
     "output_type": "execute_result"
    }
   ],
   "source": [
    "working_dir = 'synthesis-car-od'\n",
    "dir_len = len(working_dir)\n",
    "\n",
    "path = os.getcwd().replace('\\\\', '/')\n",
    "index = path.find(working_dir)\n",
    "working_dir = path[:index + dir_len + 1]\n",
    "working_dir"
   ]
  },
  {
   "cell_type": "code",
   "execution_count": 3,
   "metadata": {},
   "outputs": [],
   "source": [
    "DATA_PATH = os.path.join(working_dir, 'data/')\n",
    "TRAIN_PATH = os.path.join(DATA_PATH, 'train/')\n",
    "TEST_PATH = os.path.join(DATA_PATH, 'test/')\n",
    "DEST_PATH = os.path.join(DATA_PATH, 'yolo/')\n",
    "DEST_IMAGE_PATH = os.path.join(DEST_PATH, 'images/')\n",
    "DEST_LABEL_PATH = os.path.join(DEST_PATH, 'labels/')\n",
    "\n",
    "os.makedirs(DEST_IMAGE_PATH, exist_ok=True)\n",
    "os.makedirs(DEST_LABEL_PATH, exist_ok=True)"
   ]
  },
  {
   "attachments": {},
   "cell_type": "markdown",
   "metadata": {},
   "source": [
    "# Make Yolo Data Structure"
   ]
  },
  {
   "cell_type": "code",
   "execution_count": 5,
   "metadata": {},
   "outputs": [],
   "source": [
    "def make_yolo_dataset(image_paths, txt_paths=None):\n",
    "    for image_path, txt_path in zip(tqdm(image_paths), txt_paths):\n",
    "        img = cv2.imread(image_path)\n",
    "\n",
    "        dest_image_path = os.path.join(DEST_IMAGE_PATH, os.path.basename(image_path))\n",
    "        cv2.imwrite(dest_image_path, img)\n",
    "\n",
    "        if txt_paths:\n",
    "            with open(txt_path, 'r') as txt_file:\n",
    "                yolo_labels = []\n",
    "\n",
    "                img_h, img_w, _ = img.shape\n",
    "                lines = txt_file.readlines()\n",
    "\n",
    "                for line in lines:\n",
    "                    line = list(map(float, line.strip().split(' ')))\n",
    "\n",
    "                    label = int(line[0])\n",
    "\n",
    "                    bbox = line[1:]\n",
    "\n",
    "                    xs = [bbox[i] for i in range(0, 8, 2)]\n",
    "                    ys = [bbox[i] for i in range(1, 8, 2)]\n",
    "\n",
    "                    x_min = min(xs)\n",
    "                    y_min = min(ys)\n",
    "                    x_max = max(xs)\n",
    "                    y_max = max(ys)\n",
    "\n",
    "                    box_w = x_max - x_min \n",
    "                    box_h = y_max - y_min\n",
    "\n",
    "                    normalized_x = (x_min + x_max) / (2 * img_w)\n",
    "                    normalized_y = (y_min + y_max) / (2 * img_h)\n",
    "\n",
    "                    normalized_box_w = box_w / img_w\n",
    "                    normalized_box_h = box_h / img_h\n",
    "\n",
    "                    yolo_labels.append(f'{label} {normalized_x} {normalized_y} {normalized_box_w} {normalized_box_h}')\n",
    "\n",
    "            dest_label_path = os.path.join(DEST_LABEL_PATH, os.path.basename(txt_path))\n",
    "\n",
    "            with open(dest_label_path, 'w') as label_file:\n",
    "                for yolo_label in yolo_labels:\n",
    "                    label_file.write(f'{yolo_label}\\n')"
   ]
  },
  {
   "cell_type": "code",
   "execution_count": 6,
   "metadata": {},
   "outputs": [
    {
     "name": "stderr",
     "output_type": "stream",
     "text": [
      "100%|██████████| 6481/6481 [11:33<00:00,  9.34it/s]\n",
      "  0%|          | 0/3400 [00:00<?, ?it/s]\n"
     ]
    },
    {
     "ename": "TypeError",
     "evalue": "'NoneType' object is not iterable",
     "output_type": "error",
     "traceback": [
      "\u001b[0;31m---------------------------------------------------------------------------\u001b[0m",
      "\u001b[0;31mTypeError\u001b[0m                                 Traceback (most recent call last)",
      "Cell \u001b[0;32mIn[6], line 7\u001b[0m\n\u001b[1;32m      4\u001b[0m test_imgs \u001b[39m=\u001b[39m \u001b[39msorted\u001b[39m(glob\u001b[39m.\u001b[39mglob(os\u001b[39m.\u001b[39mpath\u001b[39m.\u001b[39mjoin(TEST_PATH, \u001b[39m'\u001b[39m\u001b[39m*.png\u001b[39m\u001b[39m'\u001b[39m)))\n\u001b[1;32m      6\u001b[0m make_yolo_dataset(train_imgs, train_txts)\n\u001b[0;32m----> 7\u001b[0m make_yolo_dataset(test_imgs)\n",
      "Cell \u001b[0;32mIn[5], line 2\u001b[0m, in \u001b[0;36mmake_yolo_dataset\u001b[0;34m(image_paths, txt_paths)\u001b[0m\n\u001b[1;32m      1\u001b[0m \u001b[39mdef\u001b[39;00m \u001b[39mmake_yolo_dataset\u001b[39m(image_paths, txt_paths\u001b[39m=\u001b[39m\u001b[39mNone\u001b[39;00m):\n\u001b[0;32m----> 2\u001b[0m     \u001b[39mfor\u001b[39;00m image_path, txt_path \u001b[39min\u001b[39;00m \u001b[39mzip\u001b[39;49m(tqdm(image_paths), txt_paths):\n\u001b[1;32m      3\u001b[0m         img \u001b[39m=\u001b[39m cv2\u001b[39m.\u001b[39mimread(image_path)\n\u001b[1;32m      5\u001b[0m         dest_image_path \u001b[39m=\u001b[39m os\u001b[39m.\u001b[39mpath\u001b[39m.\u001b[39mjoin(DEST_IMAGE_PATH, os\u001b[39m.\u001b[39mpath\u001b[39m.\u001b[39mbasename(image_path))\n",
      "\u001b[0;31mTypeError\u001b[0m: 'NoneType' object is not iterable"
     ]
    }
   ],
   "source": [
    "train_imgs = sorted(glob.glob(os.path.join(TRAIN_PATH, '*.png')))\n",
    "train_txts = sorted(glob.glob(os.path.join(TRAIN_PATH, '*.txt')))\n",
    "\n",
    "test_imgs = sorted(glob.glob(os.path.join(TEST_PATH, '*.png')))\n",
    "\n",
    "make_yolo_dataset(train_imgs, train_txts)\n",
    "make_yolo_dataset(test_imgs)"
   ]
  },
  {
   "attachments": {},
   "cell_type": "markdown",
   "metadata": {},
   "source": [
    "# Stratified Group KFold Split & Make YAML Config"
   ]
  },
  {
   "cell_type": "code",
   "execution_count": 6,
   "metadata": {},
   "outputs": [],
   "source": [
    "img_names = []\n",
    "txt_names = []\n",
    "labels = []\n",
    "bboxes = []\n",
    "\n",
    "for img, txt in zip(train_imgs, train_txts):\n",
    "    img_name = img.replace('\\\\', '/').split('/')[-1]\n",
    "    txt_name = txt.replace('\\\\', '/').split('/')[-1]\n",
    "\n",
    "    with open(txt, 'r') as t:\n",
    "        lines = t.readlines()\n",
    "\n",
    "        for line in lines:\n",
    "            line = line.strip()\n",
    "            label = int(float(line.split(' ')[0]))\n",
    "            bbox = ' '.join(line.split(' ')[1:])\n",
    "\n",
    "            img_names.append(img_name)\n",
    "            txt_names.append(txt_name)\n",
    "            labels.append(label)\n",
    "            bboxes.append(bbox)"
   ]
  },
  {
   "cell_type": "code",
   "execution_count": 9,
   "metadata": {},
   "outputs": [
    {
     "data": {
      "text/html": [
       "<div>\n",
       "<style scoped>\n",
       "    .dataframe tbody tr th:only-of-type {\n",
       "        vertical-align: middle;\n",
       "    }\n",
       "\n",
       "    .dataframe tbody tr th {\n",
       "        vertical-align: top;\n",
       "    }\n",
       "\n",
       "    .dataframe thead th {\n",
       "        text-align: right;\n",
       "    }\n",
       "</style>\n",
       "<table border=\"1\" class=\"dataframe\">\n",
       "  <thead>\n",
       "    <tr style=\"text-align: right;\">\n",
       "      <th></th>\n",
       "      <th>img</th>\n",
       "      <th>label</th>\n",
       "      <th>bbox</th>\n",
       "    </tr>\n",
       "  </thead>\n",
       "  <tbody>\n",
       "    <tr>\n",
       "      <th>0</th>\n",
       "      <td>syn_00000.png</td>\n",
       "      <td>9</td>\n",
       "      <td>1037 209 1312 209 1312 448 1037 448</td>\n",
       "    </tr>\n",
       "    <tr>\n",
       "      <th>1</th>\n",
       "      <td>syn_00000.png</td>\n",
       "      <td>25</td>\n",
       "      <td>804 425 1127 425 1127 783 804 783</td>\n",
       "    </tr>\n",
       "    <tr>\n",
       "      <th>2</th>\n",
       "      <td>syn_00000.png</td>\n",
       "      <td>12</td>\n",
       "      <td>330 250 583 250 583 511 330 511</td>\n",
       "    </tr>\n",
       "    <tr>\n",
       "      <th>3</th>\n",
       "      <td>syn_00001.png</td>\n",
       "      <td>16</td>\n",
       "      <td>1000 98 1295 98 1295 405 1000 405</td>\n",
       "    </tr>\n",
       "    <tr>\n",
       "      <th>4</th>\n",
       "      <td>syn_00001.png</td>\n",
       "      <td>14</td>\n",
       "      <td>678 175 926 175 926 421 678 421</td>\n",
       "    </tr>\n",
       "  </tbody>\n",
       "</table>\n",
       "</div>"
      ],
      "text/plain": [
       "             img  label                                 bbox\n",
       "0  syn_00000.png      9  1037 209 1312 209 1312 448 1037 448\n",
       "1  syn_00000.png     25    804 425 1127 425 1127 783 804 783\n",
       "2  syn_00000.png     12      330 250 583 250 583 511 330 511\n",
       "3  syn_00001.png     16    1000 98 1295 98 1295 405 1000 405\n",
       "4  syn_00001.png     14      678 175 926 175 926 421 678 421"
      ]
     },
     "execution_count": 9,
     "metadata": {},
     "output_type": "execute_result"
    }
   ],
   "source": [
    "train_df = pd.DataFrame({\n",
    "    'img' : img_names,\n",
    "    'txt' : txt_names,\n",
    "    'label' : labels,\n",
    "    'bbox' : bboxes\n",
    "})\n",
    "train_df.head()"
   ]
  },
  {
   "cell_type": "code",
   "execution_count": 10,
   "metadata": {},
   "outputs": [],
   "source": [
    "SEED = 41\n",
    "\n",
    "sgkf = StratifiedGroupKFold(\n",
    "    n_splits=4,\n",
    "    shuffle=True,\n",
    "    random_state=SEED\n",
    ")"
   ]
  },
  {
   "cell_type": "code",
   "execution_count": 11,
   "metadata": {},
   "outputs": [],
   "source": [
    "train_indices = []\n",
    "val_indices = []\n",
    "\n",
    "for train_idx, val_idx in sgkf.split(train_df['img'], train_df['label'], train_df['img']):\n",
    "    train_indices.append(train_idx)\n",
    "    val_indices.append(val_idx)"
   ]
  },
  {
   "cell_type": "code",
   "execution_count": null,
   "metadata": {},
   "outputs": [],
   "source": []
  }
 ],
 "metadata": {
  "kernelspec": {
   "display_name": "synthesis-car-od",
   "language": "python",
   "name": "python3"
  },
  "language_info": {
   "codemirror_mode": {
    "name": "ipython",
    "version": 3
   },
   "file_extension": ".py",
   "mimetype": "text/x-python",
   "name": "python",
   "nbconvert_exporter": "python",
   "pygments_lexer": "ipython3",
   "version": "3.9.16"
  },
  "orig_nbformat": 4
 },
 "nbformat": 4,
 "nbformat_minor": 2
}
