{
 "cells": [
  {
   "cell_type": "code",
   "execution_count": 1,
   "metadata": {},
   "outputs": [],
   "source": [
    "import os\n",
    "import glob\n",
    "import shutil\n",
    "from tqdm import tqdm\n",
    "\n",
    "# import pandas as pd\n",
    "import numpy as np\n",
    "import yaml\n",
    "import cv2\n",
    "\n",
    "from sklearn.model_selection import StratifiedGroupKFold"
   ]
  },
  {
   "cell_type": "code",
   "execution_count": 2,
   "metadata": {},
   "outputs": [
    {
     "data": {
      "text/plain": [
       "'/Users/a16/Desktop/JJ/self_study/projects/synthesis-car-od/'"
      ]
     },
     "execution_count": 2,
     "metadata": {},
     "output_type": "execute_result"
    }
   ],
   "source": [
    "working_dir = 'synthesis-car-od'\n",
    "dir_len = len(working_dir)\n",
    "\n",
    "path = os.getcwd().replace('\\\\', '/')\n",
    "index = path.find(working_dir)\n",
    "working_dir = path[:index + dir_len + 1]\n",
    "working_dir"
   ]
  },
  {
   "cell_type": "code",
   "execution_count": 3,
   "metadata": {},
   "outputs": [],
   "source": [
    "DATA_PATH = os.path.join(working_dir, 'data/')\n",
    "\n",
    "TRAIN_PATH = os.path.join(DATA_PATH, 'train/')\n",
    "TEST_PATH = os.path.join(DATA_PATH, 'test/')\n",
    "\n",
    "DEST_PATH = os.path.join(DATA_PATH, 'yolo/')\n",
    "DEST_IMAGE_PATH = os.path.join(DEST_PATH, 'images/')\n",
    "DEST_LABEL_PATH = os.path.join(DEST_PATH, 'labels/')\n",
    "\n",
    "os.makedirs(DEST_IMAGE_PATH, exist_ok=True)\n",
    "os.makedirs(DEST_LABEL_PATH, exist_ok=True)"
   ]
  },
  {
   "attachments": {},
   "cell_type": "markdown",
   "metadata": {},
   "source": [
    "# Make Yolo Data Structure"
   ]
  },
  {
   "cell_type": "code",
   "execution_count": 4,
   "metadata": {},
   "outputs": [],
   "source": [
    "def make_yolo_dataset(image_paths, txt_paths):\n",
    "    for image_path, txt_path in zip(tqdm(image_paths), txt_paths):\n",
    "        img = cv2.imread(image_path)\n",
    "\n",
    "        with open(txt_path, 'r') as txt_file:\n",
    "            yolo_labels = []\n",
    "\n",
    "            img_h, img_w, _ = img.shape\n",
    "            lines = txt_file.readlines()\n",
    "\n",
    "            for line in lines:\n",
    "                line = list(map(float, line.strip().split(' ')))\n",
    "\n",
    "                label = int(line[0])\n",
    "\n",
    "                bbox = line[1:]\n",
    "\n",
    "                xs = [bbox[i] for i in range(0, 8, 2)]\n",
    "                ys = [bbox[i] for i in range(1, 8, 2)]\n",
    "\n",
    "                x_min = min(xs)\n",
    "                y_min = min(ys)\n",
    "                x_max = max(xs)\n",
    "                y_max = max(ys)\n",
    "\n",
    "                box_w = x_max - x_min \n",
    "                box_h = y_max - y_min\n",
    "\n",
    "                normalized_x = (x_min + x_max) / (2 * img_w)\n",
    "                normalized_y = (y_min + y_max) / (2 * img_h)\n",
    "\n",
    "                normalized_box_w = box_w / img_w\n",
    "                normalized_box_h = box_h / img_h\n",
    "\n",
    "                yolo_labels.append(f'{label} {normalized_x} {normalized_y} {normalized_box_w} {normalized_box_h}')\n",
    "\n",
    "        dest_label_path = os.path.join(DEST_LABEL_PATH, os.path.basename(txt_path))\n",
    "\n",
    "        with open(dest_label_path, 'w') as label_file:\n",
    "            for yolo_label in yolo_labels:\n",
    "                    label_file.write(f'{yolo_label}\\n')"
   ]
  },
  {
   "cell_type": "code",
   "execution_count": 5,
   "metadata": {},
   "outputs": [],
   "source": [
    "train_imgs = sorted(glob.glob(os.path.join(TRAIN_PATH, '*.png')))\n",
    "train_txts = sorted(glob.glob(os.path.join(TRAIN_PATH, '*.txt')))"
   ]
  },
  {
   "cell_type": "code",
   "execution_count": 6,
   "metadata": {},
   "outputs": [
    {
     "name": "stderr",
     "output_type": "stream",
     "text": [
      "100%|██████████| 6481/6481 [00:38<00:00, 169.96it/s]\n"
     ]
    }
   ],
   "source": [
    "for img in tqdm(train_imgs):\n",
    "    dest_image_path = os.path.join(DEST_IMAGE_PATH, os.path.basename(img))\n",
    "\n",
    "    shutil.copy(img, dest_image_path)"
   ]
  },
  {
   "cell_type": "code",
   "execution_count": 7,
   "metadata": {},
   "outputs": [
    {
     "name": "stderr",
     "output_type": "stream",
     "text": [
      "100%|██████████| 6481/6481 [05:08<00:00, 20.98it/s]\n"
     ]
    }
   ],
   "source": [
    "make_yolo_dataset(train_imgs, train_txts)"
   ]
  },
  {
   "attachments": {},
   "cell_type": "markdown",
   "metadata": {},
   "source": [
    "# Make SGKF Image Path TXT"
   ]
  },
  {
   "cell_type": "code",
   "execution_count": 8,
   "metadata": {},
   "outputs": [],
   "source": [
    "img_names = []\n",
    "labels = []\n",
    "\n",
    "for img, txt in zip(train_imgs, train_txts):\n",
    "    img_name = img.replace('\\\\', '/').split('/')[-1]\n",
    "    txt_name = txt.replace('\\\\', '/').split('/')[-1]\n",
    "\n",
    "    with open(txt, 'r') as t:\n",
    "        lines = t.readlines()\n",
    "\n",
    "        for line in lines:\n",
    "            line = line.strip()\n",
    "            label = int(float(line.split(' ')[0]))\n",
    "            bbox = ' '.join(line.split(' ')[1:])\n",
    "\n",
    "            img_names.append(img_name)\n",
    "            labels.append(label)"
   ]
  },
  {
   "cell_type": "code",
   "execution_count": 10,
   "metadata": {},
   "outputs": [],
   "source": [
    "SEED = 41\n",
    "N_SPLITS = 4\n",
    "\n",
    "sgkf = StratifiedGroupKFold(\n",
    "    n_splits=N_SPLITS,\n",
    "    shuffle=True,\n",
    "    random_state=SEED\n",
    ")"
   ]
  },
  {
   "cell_type": "code",
   "execution_count": 14,
   "metadata": {},
   "outputs": [],
   "source": [
    "img_names = np.array(img_names)\n",
    "\n",
    "for i, (train_idx, val_idx) in enumerate(sgkf.split(img_names, labels, img_names)):\n",
    "\n",
    "    train_imgs = np.unique(img_names[train_idx])\n",
    "    train_imgs = list(map(lambda x : os.path.join(DEST_IMAGE_PATH, x).replace(DATA_PATH, ''), train_imgs))\n",
    "\n",
    "    val_imgs = np.unique(img_names[val_idx])\n",
    "    val_imgs = list(map(lambda x : os.path.join(DEST_IMAGE_PATH, x).replace(DATA_PATH, ''), val_imgs))\n",
    "\n",
    "    with open(os.path.join(DEST_PATH, f'train_{i}.txt'), 'w') as path_file:\n",
    "        for img in train_imgs:\n",
    "            path_file.write(f'{img}\\n')\n",
    "\n",
    "    with open(os.path.join(DEST_PATH, f'val_{i}.txt'), 'w') as path_file:\n",
    "        for img in val_imgs:\n",
    "            path_file.write(f'{img}\\n')"
   ]
  },
  {
   "cell_type": "code",
   "execution_count": 15,
   "metadata": {},
   "outputs": [],
   "source": [
    "test_imgs = sorted(glob.glob(os.path.join(TEST_PATH, '*.png')))\n",
    "test_imgs = list(map(lambda x : os.path.join(DEST_IMAGE_PATH, x).replace(DATA_PATH, ''), test_imgs))\n",
    "\n",
    "with open(os.path.join(DEST_PATH, 'test.txt'), 'w') as path_file:\n",
    "    for img in test_imgs:\n",
    "        path_file.write(f'{img}\\n')"
   ]
  },
  {
   "attachments": {},
   "cell_type": "markdown",
   "metadata": {},
   "source": [
    "# Make YAML Config"
   ]
  },
  {
   "cell_type": "code",
   "execution_count": 16,
   "metadata": {},
   "outputs": [],
   "source": [
    "category_names = []\n",
    "\n",
    "with open(os.path.join(DATA_PATH, 'classes.txt'), 'r') as cls_file:\n",
    "    lines = cls_file.readlines()\n",
    "\n",
    "    for line in lines:\n",
    "        line = line.strip()\n",
    "\n",
    "        # category_name\n",
    "        category_name = line.split(',')[-1]\n",
    "\n",
    "        category_names.append(category_name)"
   ]
  },
  {
   "cell_type": "code",
   "execution_count": 17,
   "metadata": {},
   "outputs": [],
   "source": [
    "categories = dict()\n",
    "\n",
    "for i, name in enumerate(category_names):\n",
    "    categories[i] = name"
   ]
  },
  {
   "cell_type": "code",
   "execution_count": 18,
   "metadata": {},
   "outputs": [],
   "source": [
    "for i in range(N_SPLITS):\n",
    "    yaml_config = {\n",
    "    'path' : DATA_PATH,\n",
    "    'train' : os.path.join(DEST_PATH, f'train_{i}.txt').replace(DATA_PATH, ''),\n",
    "    'val' : os.path.join(DEST_PATH, f'val_{i}.txt').replace(DATA_PATH, ''),\n",
    "    'test' : os.path.join(DEST_PATH, f'test.txt').replace(DATA_PATH, ''),\n",
    "    'nc' : len(category_names),\n",
    "    'names' : categories,\n",
    "    }\n",
    "\n",
    "    with open(os.path.join(DEST_PATH, f'fold_{i}.yaml'), 'w') as file:\n",
    "        yaml.dump(yaml_config, file, sort_keys=False)"
   ]
  }
 ],
 "metadata": {
  "kernelspec": {
   "display_name": "synthesis-car-od",
   "language": "python",
   "name": "python3"
  },
  "language_info": {
   "codemirror_mode": {
    "name": "ipython",
    "version": 3
   },
   "file_extension": ".py",
   "mimetype": "text/x-python",
   "name": "python",
   "nbconvert_exporter": "python",
   "pygments_lexer": "ipython3",
   "version": "3.9.16"
  },
  "orig_nbformat": 4
 },
 "nbformat": 4,
 "nbformat_minor": 2
}
