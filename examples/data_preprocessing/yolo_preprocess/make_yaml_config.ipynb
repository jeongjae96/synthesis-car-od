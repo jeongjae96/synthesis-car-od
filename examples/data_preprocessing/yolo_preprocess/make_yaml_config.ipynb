{
 "cells": [
  {
   "cell_type": "code",
   "execution_count": 1,
   "metadata": {},
   "outputs": [],
   "source": [
    "import os\n",
    "import yaml"
   ]
  },
  {
   "cell_type": "code",
   "execution_count": 2,
   "metadata": {},
   "outputs": [
    {
     "data": {
      "text/plain": [
       "'/Users/a16/Desktop/JJ/self_study/projects/synthesis-car-od/'"
      ]
     },
     "execution_count": 2,
     "metadata": {},
     "output_type": "execute_result"
    }
   ],
   "source": [
    "working_dir = 'synthesis-car-od'\n",
    "dir_len = len(working_dir)\n",
    "\n",
    "path = os.getcwd().replace('\\\\', '/')\n",
    "index = path.find(working_dir)\n",
    "working_dir = path[:index + dir_len + 1]\n",
    "working_dir"
   ]
  },
  {
   "cell_type": "code",
   "execution_count": 3,
   "metadata": {},
   "outputs": [
    {
     "data": {
      "text/plain": [
       "'/Users/a16/Desktop/JJ/self_study/projects/synthesis-car-od/data/'"
      ]
     },
     "execution_count": 3,
     "metadata": {},
     "output_type": "execute_result"
    }
   ],
   "source": [
    "data_dir = os.path.join(working_dir, 'data/').replace('\\\\', '/')\n",
    "data_dir"
   ]
  },
  {
   "cell_type": "code",
   "execution_count": 4,
   "metadata": {},
   "outputs": [
    {
     "name": "stdout",
     "output_type": "stream",
     "text": [
      "chevrolet_malibu_sedan_2012_2016\n",
      "chevrolet_malibu_sedan_2017_2019\n",
      "chevrolet_spark_hatchback_2016_2021\n",
      "chevrolet_trailblazer_suv_2021_\n",
      "chevrolet_trax_suv_2017_2019\n",
      "genesis_g80_sedan_2016_2020\n",
      "genesis_g80_sedan_2021_\n",
      "genesis_gv80_suv_2020_\n",
      "hyundai_avante_sedan_2011_2015\n",
      "hyundai_avante_sedan_2020_\n",
      "hyundai_grandeur_sedan_2011_2016\n",
      "hyundai_grandstarex_van_2018_2020\n",
      "hyundai_ioniq_hatchback_2016_2019\n",
      "hyundai_sonata_sedan_2004_2009\n",
      "hyundai_sonata_sedan_2010_2014\n",
      "hyundai_sonata_sedan_2019_2020\n",
      "kia_carnival_van_2015_2020\n",
      "kia_carnival_van_2021_\n",
      "kia_k5_sedan_2010_2015\n",
      "kia_k5_sedan_2020_\n",
      "kia_k7_sedan_2016_2020\n",
      "kia_mohave_suv_2020_\n",
      "kia_morning_hatchback_2004_2010\n",
      "kia_morning_hatchback_2011_2016\n",
      "kia_ray_hatchback_2012_2017\n",
      "kia_sorrento_suv_2015_2019\n",
      "kia_sorrento_suv_2020_\n",
      "kia_soul_suv_2014_2018\n",
      "kia_sportage_suv_2016_2020\n",
      "kia_stonic_suv_2017_2019\n",
      "renault_sm3_sedan_2015_2018\n",
      "renault_xm3_suv_2020_\n",
      "ssangyong_korando_suv_2019_2020\n",
      "ssangyong_tivoli_suv_2016_2020\n"
     ]
    }
   ],
   "source": [
    "category_names = []\n",
    "\n",
    "with open(os.path.join(data_dir, 'classes.txt'), 'r') as cls_file:\n",
    "    lines = cls_file.readlines()\n",
    "\n",
    "    for line in lines:\n",
    "        line = line.strip()\n",
    "\n",
    "        # category_name\n",
    "        category_name = line.split(',')[-1]\n",
    "\n",
    "        category_names.append(category_name)\n",
    "\n",
    "print(*category_names, sep='\\n')"
   ]
  },
  {
   "cell_type": "code",
   "execution_count": 5,
   "metadata": {},
   "outputs": [],
   "source": [
    "categories = dict()\n",
    "\n",
    "for i, name in enumerate(category_names):\n",
    "    categories[i] = name"
   ]
  },
  {
   "cell_type": "code",
   "execution_count": 6,
   "metadata": {},
   "outputs": [],
   "source": [
    "yaml_config = {\n",
    "    'path' : data_dir,\n",
    "    'train' : 'trian.txt',\n",
    "    'val' : 'val.txt',\n",
    "    'test' : 'test.txt',\n",
    "    'nc' : len(category_names),\n",
    "    'names' : categories,\n",
    "}\n",
    "\n",
    "with open('./sample.yaml', 'w') as file:\n",
    "    yaml.dump(yaml_config, file, sort_keys=False)"
   ]
  },
  {
   "cell_type": "code",
   "execution_count": null,
   "metadata": {},
   "outputs": [],
   "source": []
  }
 ],
 "metadata": {
  "kernelspec": {
   "display_name": "synthesis-car-od",
   "language": "python",
   "name": "python3"
  },
  "language_info": {
   "codemirror_mode": {
    "name": "ipython",
    "version": 3
   },
   "file_extension": ".py",
   "mimetype": "text/x-python",
   "name": "python",
   "nbconvert_exporter": "python",
   "pygments_lexer": "ipython3",
   "version": "3.9.16"
  },
  "orig_nbformat": 4
 },
 "nbformat": 4,
 "nbformat_minor": 2
}
