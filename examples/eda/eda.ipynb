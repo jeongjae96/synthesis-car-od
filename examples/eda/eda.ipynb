{
 "cells": [
  {
   "cell_type": "code",
   "execution_count": 14,
   "metadata": {},
   "outputs": [
    {
     "name": "stderr",
     "output_type": "stream",
     "text": [
      "/opt/homebrew/Caskroom/miniconda/base/envs/synthesis-car-od/lib/python3.9/site-packages/tqdm/auto.py:21: TqdmWarning: IProgress not found. Please update jupyter and ipywidgets. See https://ipywidgets.readthedocs.io/en/stable/user_install.html\n",
      "  from .autonotebook import tqdm as notebook_tqdm\n"
     ]
    }
   ],
   "source": [
    "import os\n",
    "import glob\n",
    "\n",
    "import pandas as pd\n",
    "import cv2\n",
    "\n",
    "from tqdm.auto import tqdm"
   ]
  },
  {
   "cell_type": "code",
   "execution_count": 15,
   "metadata": {},
   "outputs": [
    {
     "data": {
      "text/plain": [
       "'/Users/a16/Desktop/JJ/self_study/projects/synthesis-car-od/'"
      ]
     },
     "execution_count": 15,
     "metadata": {},
     "output_type": "execute_result"
    }
   ],
   "source": [
    "working_dir = 'synthesis-car-od'\n",
    "dir_len = len(working_dir)\n",
    "\n",
    "path = os.getcwd().replace('\\\\', '/')\n",
    "index = path.find(working_dir)\n",
    "working_dir = path[:index + dir_len + 1]\n",
    "working_dir"
   ]
  },
  {
   "cell_type": "code",
   "execution_count": 16,
   "metadata": {},
   "outputs": [],
   "source": [
    "DATA_PATH = os.path.join(working_dir, 'data/')\n",
    "TRAIN_PATH = os.path.join(DATA_PATH, 'train/')"
   ]
  },
  {
   "attachments": {},
   "cell_type": "markdown",
   "metadata": {},
   "source": [
    "## Train 데이터 이미지 크기\n",
    "\n",
    "- Train 데이터 전체 1040, 1920으로 동일"
   ]
  },
  {
   "cell_type": "code",
   "execution_count": 33,
   "metadata": {},
   "outputs": [
    {
     "data": {
      "text/plain": [
       "['/Users/a16/Desktop/JJ/self_study/projects/synthesis-car-od/data/train/syn_00000.png',\n",
       " '/Users/a16/Desktop/JJ/self_study/projects/synthesis-car-od/data/train/syn_00001.png',\n",
       " '/Users/a16/Desktop/JJ/self_study/projects/synthesis-car-od/data/train/syn_00002.png',\n",
       " '/Users/a16/Desktop/JJ/self_study/projects/synthesis-car-od/data/train/syn_00003.png',\n",
       " '/Users/a16/Desktop/JJ/self_study/projects/synthesis-car-od/data/train/syn_00004.png']"
      ]
     },
     "execution_count": 33,
     "metadata": {},
     "output_type": "execute_result"
    }
   ],
   "source": [
    "imgs = sorted(glob.glob(os.path.join(TRAIN_PATH, '*.png')))\n",
    "imgs[:5]"
   ]
  },
  {
   "cell_type": "code",
   "execution_count": 18,
   "metadata": {},
   "outputs": [
    {
     "name": "stderr",
     "output_type": "stream",
     "text": [
      "100%|██████████| 6481/6481 [05:10<00:00, 20.88it/s]\n"
     ]
    }
   ],
   "source": [
    "width = []\n",
    "height = []\n",
    "\n",
    "for img in tqdm(imgs):\n",
    "    img = cv2.imread(img)\n",
    "    w, h, _ = img.shape\n",
    "    width.append(w)\n",
    "    height.append(h)"
   ]
  },
  {
   "cell_type": "code",
   "execution_count": 19,
   "metadata": {},
   "outputs": [
    {
     "data": {
      "text/plain": [
       "['syn_00710.png',\n",
       " 'syn_06361.png',\n",
       " 'syn_02107.png',\n",
       " 'syn_05668.png',\n",
       " 'syn_04576.png']"
      ]
     },
     "execution_count": 19,
     "metadata": {},
     "output_type": "execute_result"
    }
   ],
   "source": [
    "files = list(map(lambda x : x.replace('\\\\', '/').split('/')[-1], imgs))\n",
    "files[:5]"
   ]
  },
  {
   "cell_type": "code",
   "execution_count": 20,
   "metadata": {},
   "outputs": [
    {
     "data": {
      "text/html": [
       "<div>\n",
       "<style scoped>\n",
       "    .dataframe tbody tr th:only-of-type {\n",
       "        vertical-align: middle;\n",
       "    }\n",
       "\n",
       "    .dataframe tbody tr th {\n",
       "        vertical-align: top;\n",
       "    }\n",
       "\n",
       "    .dataframe thead th {\n",
       "        text-align: right;\n",
       "    }\n",
       "</style>\n",
       "<table border=\"1\" class=\"dataframe\">\n",
       "  <thead>\n",
       "    <tr style=\"text-align: right;\">\n",
       "      <th></th>\n",
       "      <th>name</th>\n",
       "      <th>width</th>\n",
       "      <th>height</th>\n",
       "    </tr>\n",
       "  </thead>\n",
       "  <tbody>\n",
       "    <tr>\n",
       "      <th>0</th>\n",
       "      <td>syn_00710.png</td>\n",
       "      <td>1040</td>\n",
       "      <td>1920</td>\n",
       "    </tr>\n",
       "    <tr>\n",
       "      <th>1</th>\n",
       "      <td>syn_06361.png</td>\n",
       "      <td>1040</td>\n",
       "      <td>1920</td>\n",
       "    </tr>\n",
       "    <tr>\n",
       "      <th>2</th>\n",
       "      <td>syn_02107.png</td>\n",
       "      <td>1040</td>\n",
       "      <td>1920</td>\n",
       "    </tr>\n",
       "    <tr>\n",
       "      <th>3</th>\n",
       "      <td>syn_05668.png</td>\n",
       "      <td>1040</td>\n",
       "      <td>1920</td>\n",
       "    </tr>\n",
       "    <tr>\n",
       "      <th>4</th>\n",
       "      <td>syn_04576.png</td>\n",
       "      <td>1040</td>\n",
       "      <td>1920</td>\n",
       "    </tr>\n",
       "  </tbody>\n",
       "</table>\n",
       "</div>"
      ],
      "text/plain": [
       "            name  width  height\n",
       "0  syn_00710.png   1040    1920\n",
       "1  syn_06361.png   1040    1920\n",
       "2  syn_02107.png   1040    1920\n",
       "3  syn_05668.png   1040    1920\n",
       "4  syn_04576.png   1040    1920"
      ]
     },
     "execution_count": 20,
     "metadata": {},
     "output_type": "execute_result"
    }
   ],
   "source": [
    "df = pd.DataFrame({\n",
    "    'name' : files,\n",
    "    'width' : width,\n",
    "    'height' : height,\n",
    "})\n",
    "df.head()"
   ]
  },
  {
   "cell_type": "code",
   "execution_count": 24,
   "metadata": {},
   "outputs": [
    {
     "data": {
      "text/plain": [
       "width\n",
       "1040    6481\n",
       "Name: count, dtype: int64"
      ]
     },
     "metadata": {},
     "output_type": "display_data"
    },
    {
     "data": {
      "text/plain": [
       "height\n",
       "1920    6481\n",
       "Name: count, dtype: int64"
      ]
     },
     "metadata": {},
     "output_type": "display_data"
    }
   ],
   "source": [
    "display(df['width'].value_counts())\n",
    "display(df['height'].value_counts())"
   ]
  },
  {
   "attachments": {},
   "cell_type": "markdown",
   "metadata": {},
   "source": [
    "## 클래스별 개수 확인\n",
    "\n",
    "- 34개 클래스 각각 500개로 개수 동일"
   ]
  },
  {
   "cell_type": "code",
   "execution_count": 34,
   "metadata": {},
   "outputs": [
    {
     "data": {
      "text/plain": [
       "['/Users/a16/Desktop/JJ/self_study/projects/synthesis-car-od/data/train/syn_00000.txt',\n",
       " '/Users/a16/Desktop/JJ/self_study/projects/synthesis-car-od/data/train/syn_00001.txt',\n",
       " '/Users/a16/Desktop/JJ/self_study/projects/synthesis-car-od/data/train/syn_00002.txt',\n",
       " '/Users/a16/Desktop/JJ/self_study/projects/synthesis-car-od/data/train/syn_00003.txt',\n",
       " '/Users/a16/Desktop/JJ/self_study/projects/synthesis-car-od/data/train/syn_00004.txt']"
      ]
     },
     "execution_count": 34,
     "metadata": {},
     "output_type": "execute_result"
    }
   ],
   "source": [
    "txts = sorted(glob.glob(os.path.join(TRAIN_PATH, '*.txt')))\n",
    "txts[:5]"
   ]
  },
  {
   "cell_type": "code",
   "execution_count": 35,
   "metadata": {},
   "outputs": [
    {
     "name": "stdout",
     "output_type": "stream",
     "text": [
      "['syn_00000.png', 'syn_00000.png', 'syn_00000.png', 'syn_00001.png', 'syn_00001.png']\n",
      "[9, 25, 12, 16, 14]\n"
     ]
    }
   ],
   "source": [
    "names = []\n",
    "labels = []\n",
    "\n",
    "for img, txt in zip(imgs, txts):\n",
    "    img_name = img.replace('\\\\', '/').split('/')[-1]\n",
    "\n",
    "    with open(txt, 'r') as t:\n",
    "        lines = t.readlines()\n",
    "\n",
    "        for line in lines:\n",
    "            line = line.strip()\n",
    "            label = int(float(line.split(' ')[0]))\n",
    "\n",
    "            names.append(img_name)\n",
    "            labels.append(label)\n",
    "\n",
    "print(names[:5])\n",
    "print(labels[:5])"
   ]
  },
  {
   "cell_type": "code",
   "execution_count": 36,
   "metadata": {},
   "outputs": [
    {
     "data": {
      "text/html": [
       "<div>\n",
       "<style scoped>\n",
       "    .dataframe tbody tr th:only-of-type {\n",
       "        vertical-align: middle;\n",
       "    }\n",
       "\n",
       "    .dataframe tbody tr th {\n",
       "        vertical-align: top;\n",
       "    }\n",
       "\n",
       "    .dataframe thead th {\n",
       "        text-align: right;\n",
       "    }\n",
       "</style>\n",
       "<table border=\"1\" class=\"dataframe\">\n",
       "  <thead>\n",
       "    <tr style=\"text-align: right;\">\n",
       "      <th></th>\n",
       "      <th>name</th>\n",
       "      <th>label</th>\n",
       "    </tr>\n",
       "  </thead>\n",
       "  <tbody>\n",
       "    <tr>\n",
       "      <th>0</th>\n",
       "      <td>syn_00000.png</td>\n",
       "      <td>9</td>\n",
       "    </tr>\n",
       "    <tr>\n",
       "      <th>1</th>\n",
       "      <td>syn_00000.png</td>\n",
       "      <td>25</td>\n",
       "    </tr>\n",
       "    <tr>\n",
       "      <th>2</th>\n",
       "      <td>syn_00000.png</td>\n",
       "      <td>12</td>\n",
       "    </tr>\n",
       "    <tr>\n",
       "      <th>3</th>\n",
       "      <td>syn_00001.png</td>\n",
       "      <td>16</td>\n",
       "    </tr>\n",
       "    <tr>\n",
       "      <th>4</th>\n",
       "      <td>syn_00001.png</td>\n",
       "      <td>14</td>\n",
       "    </tr>\n",
       "  </tbody>\n",
       "</table>\n",
       "</div>"
      ],
      "text/plain": [
       "            name  label\n",
       "0  syn_00000.png      9\n",
       "1  syn_00000.png     25\n",
       "2  syn_00000.png     12\n",
       "3  syn_00001.png     16\n",
       "4  syn_00001.png     14"
      ]
     },
     "execution_count": 36,
     "metadata": {},
     "output_type": "execute_result"
    }
   ],
   "source": [
    "label_df = pd.DataFrame({\n",
    "    'name' : names,\n",
    "    'label' : labels\n",
    "})\n",
    "label_df.head()"
   ]
  },
  {
   "cell_type": "code",
   "execution_count": 42,
   "metadata": {},
   "outputs": [
    {
     "data": {
      "text/plain": [
       "label\n",
       "0     500\n",
       "1     500\n",
       "2     500\n",
       "3     500\n",
       "4     500\n",
       "5     500\n",
       "6     500\n",
       "7     500\n",
       "8     500\n",
       "9     500\n",
       "10    500\n",
       "11    500\n",
       "12    500\n",
       "13    500\n",
       "14    500\n",
       "15    500\n",
       "16    500\n",
       "17    500\n",
       "18    500\n",
       "19    500\n",
       "20    500\n",
       "21    500\n",
       "22    500\n",
       "23    500\n",
       "24    500\n",
       "25    500\n",
       "26    500\n",
       "27    500\n",
       "28    500\n",
       "29    500\n",
       "30    500\n",
       "31    500\n",
       "32    500\n",
       "33    500\n",
       "Name: count, dtype: int64"
      ]
     },
     "execution_count": 42,
     "metadata": {},
     "output_type": "execute_result"
    }
   ],
   "source": [
    "label_df['label'].value_counts().sort_index()"
   ]
  },
  {
   "cell_type": "code",
   "execution_count": 43,
   "metadata": {},
   "outputs": [
    {
     "data": {
      "text/plain": [
       "<Axes: xlabel='label'>"
      ]
     },
     "execution_count": 43,
     "metadata": {},
     "output_type": "execute_result"
    },
    {
     "data": {
      "image/png": "[encoded data removed]",
      "text/plain": [
       "<Figure size 640x480 with 1 Axes>"
      ]
     },
     "metadata": {},
     "output_type": "display_data"
    }
   ],
   "source": [
    "label_df['label'].value_counts().sort_index().plot(kind='bar')"
   ]
  }
 ],
 "metadata": {
  "kernelspec": {
   "display_name": "synthesis-car-od",
   "language": "python",
   "name": "python3"
  },
  "language_info": {
   "codemirror_mode": {
    "name": "ipython",
    "version": 3
   },
   "file_extension": ".py",
   "mimetype": "text/x-python",
   "name": "python",
   "nbconvert_exporter": "python",
   "pygments_lexer": "ipython3",
   "version": "3.9.16"
  },
  "orig_nbformat": 4
 },
 "nbformat": 4,
 "nbformat_minor": 2
}
