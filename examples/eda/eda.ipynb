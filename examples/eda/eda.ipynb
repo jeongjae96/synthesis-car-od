{
 "cells": [
  {
   "cell_type": "code",
   "execution_count": 14,
   "metadata": {},
   "outputs": [
    {
     "name": "stderr",
     "output_type": "stream",
     "text": [
      "/opt/homebrew/Caskroom/miniconda/base/envs/synthesis-car-od/lib/python3.9/site-packages/tqdm/auto.py:21: TqdmWarning: IProgress not found. Please update jupyter and ipywidgets. See https://ipywidgets.readthedocs.io/en/stable/user_install.html\n",
      "  from .autonotebook import tqdm as notebook_tqdm\n"
     ]
    }
   ],
   "source": [
    "import os\n",
    "import glob\n",
    "\n",
    "import pandas as pd\n",
    "import cv2\n",
    "\n",
    "from tqdm.auto import tqdm"
   ]
  },
  {
   "cell_type": "code",
   "execution_count": 15,
   "metadata": {},
   "outputs": [
    {
     "data": {
      "text/plain": [
       "'/Users/a16/Desktop/JJ/self_study/projects/synthesis-car-od/'"
      ]
     },
     "execution_count": 15,
     "metadata": {},
     "output_type": "execute_result"
    }
   ],
   "source": [
    "working_dir = 'synthesis-car-od'\n",
    "dir_len = len(working_dir)\n",
    "\n",
    "path = os.getcwd().replace('\\\\', '/')\n",
    "index = path.find(working_dir)\n",
    "working_dir = path[:index + dir_len + 1]\n",
    "working_dir"
   ]
  },
  {
   "cell_type": "code",
   "execution_count": 16,
   "metadata": {},
   "outputs": [],
   "source": [
    "DATA_PATH = os.path.join(working_dir, 'data/')\n",
    "TRAIN_PATH = os.path.join(DATA_PATH, 'train/')"
   ]
  },
  {
   "attachments": {},
   "cell_type": "markdown",
   "metadata": {},
   "source": [
    "## Train 데이터 이미지 크기\n",
    "\n",
    "- Train 데이터 전체 1040, 1920으로 동일"
   ]
  },
  {
   "cell_type": "code",
   "execution_count": 17,
   "metadata": {},
   "outputs": [
    {
     "data": {
      "text/plain": [
       "['/Users/a16/Desktop/JJ/self_study/projects/synthesis-car-od/data/train/syn_00710.png',\n",
       " '/Users/a16/Desktop/JJ/self_study/projects/synthesis-car-od/data/train/syn_06361.png',\n",
       " '/Users/a16/Desktop/JJ/self_study/projects/synthesis-car-od/data/train/syn_02107.png',\n",
       " '/Users/a16/Desktop/JJ/self_study/projects/synthesis-car-od/data/train/syn_05668.png',\n",
       " '/Users/a16/Desktop/JJ/self_study/projects/synthesis-car-od/data/train/syn_04576.png']"
      ]
     },
     "execution_count": 17,
     "metadata": {},
     "output_type": "execute_result"
    }
   ],
   "source": [
    "imgs = glob.glob(os.path.join(TRAIN_PATH, '*.png'))\n",
    "imgs[:5]"
   ]
  },
  {
   "cell_type": "code",
   "execution_count": 18,
   "metadata": {},
   "outputs": [
    {
     "name": "stderr",
     "output_type": "stream",
     "text": [
      "100%|██████████| 6481/6481 [05:10<00:00, 20.88it/s]\n"
     ]
    }
   ],
   "source": [
    "width = []\n",
    "height = []\n",
    "\n",
    "for img in tqdm(imgs):\n",
    "    img = cv2.imread(img)\n",
    "    w, h, _ = img.shape\n",
    "    width.append(w)\n",
    "    height.append(h)"
   ]
  },
  {
   "cell_type": "code",
   "execution_count": 19,
   "metadata": {},
   "outputs": [
    {
     "data": {
      "text/plain": [
       "['syn_00710.png',\n",
       " 'syn_06361.png',\n",
       " 'syn_02107.png',\n",
       " 'syn_05668.png',\n",
       " 'syn_04576.png']"
      ]
     },
     "execution_count": 19,
     "metadata": {},
     "output_type": "execute_result"
    }
   ],
   "source": [
    "files = list(map(lambda x : x.replace('\\\\', '/').split('/')[-1], imgs))\n",
    "files[:5]"
   ]
  },
  {
   "cell_type": "code",
   "execution_count": 20,
   "metadata": {},
   "outputs": [
    {
     "data": {
      "text/html": [
       "<div>\n",
       "<style scoped>\n",
       "    .dataframe tbody tr th:only-of-type {\n",
       "        vertical-align: middle;\n",
       "    }\n",
       "\n",
       "    .dataframe tbody tr th {\n",
       "        vertical-align: top;\n",
       "    }\n",
       "\n",
       "    .dataframe thead th {\n",
       "        text-align: right;\n",
       "    }\n",
       "</style>\n",
       "<table border=\"1\" class=\"dataframe\">\n",
       "  <thead>\n",
       "    <tr style=\"text-align: right;\">\n",
       "      <th></th>\n",
       "      <th>name</th>\n",
       "      <th>width</th>\n",
       "      <th>height</th>\n",
       "    </tr>\n",
       "  </thead>\n",
       "  <tbody>\n",
       "    <tr>\n",
       "      <th>0</th>\n",
       "      <td>syn_00710.png</td>\n",
       "      <td>1040</td>\n",
       "      <td>1920</td>\n",
       "    </tr>\n",
       "    <tr>\n",
       "      <th>1</th>\n",
       "      <td>syn_06361.png</td>\n",
       "      <td>1040</td>\n",
       "      <td>1920</td>\n",
       "    </tr>\n",
       "    <tr>\n",
       "      <th>2</th>\n",
       "      <td>syn_02107.png</td>\n",
       "      <td>1040</td>\n",
       "      <td>1920</td>\n",
       "    </tr>\n",
       "    <tr>\n",
       "      <th>3</th>\n",
       "      <td>syn_05668.png</td>\n",
       "      <td>1040</td>\n",
       "      <td>1920</td>\n",
       "    </tr>\n",
       "    <tr>\n",
       "      <th>4</th>\n",
       "      <td>syn_04576.png</td>\n",
       "      <td>1040</td>\n",
       "      <td>1920</td>\n",
       "    </tr>\n",
       "  </tbody>\n",
       "</table>\n",
       "</div>"
      ],
      "text/plain": [
       "            name  width  height\n",
       "0  syn_00710.png   1040    1920\n",
       "1  syn_06361.png   1040    1920\n",
       "2  syn_02107.png   1040    1920\n",
       "3  syn_05668.png   1040    1920\n",
       "4  syn_04576.png   1040    1920"
      ]
     },
     "execution_count": 20,
     "metadata": {},
     "output_type": "execute_result"
    }
   ],
   "source": [
    "df = pd.DataFrame({\n",
    "    'name' : files,\n",
    "    'width' : width,\n",
    "    'height' : height,\n",
    "})\n",
    "df.head()"
   ]
  },
  {
   "cell_type": "code",
   "execution_count": 24,
   "metadata": {},
   "outputs": [
    {
     "data": {
      "text/plain": [
       "width\n",
       "1040    6481\n",
       "Name: count, dtype: int64"
      ]
     },
     "metadata": {},
     "output_type": "display_data"
    },
    {
     "data": {
      "text/plain": [
       "height\n",
       "1920    6481\n",
       "Name: count, dtype: int64"
      ]
     },
     "metadata": {},
     "output_type": "display_data"
    }
   ],
   "source": [
    "display(df['width'].value_counts())\n",
    "display(df['height'].value_counts())"
   ]
  }
 ],
 "metadata": {
  "kernelspec": {
   "display_name": "synthesis-car-od",
   "language": "python",
   "name": "python3"
  },
  "language_info": {
   "codemirror_mode": {
    "name": "ipython",
    "version": 3
   },
   "file_extension": ".py",
   "mimetype": "text/x-python",
   "name": "python",
   "nbconvert_exporter": "python",
   "pygments_lexer": "ipython3",
   "version": "3.9.16"
  },
  "orig_nbformat": 4
 },
 "nbformat": 4,
 "nbformat_minor": 2
}
