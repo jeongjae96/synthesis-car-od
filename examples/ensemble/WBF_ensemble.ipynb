{
  "cells": [
    {
      "cell_type": "code",
      "execution_count": 1,
      "metadata": {
        "id": "hiv4fIc70SC3"
      },
      "outputs": [
        {
          "name": "stderr",
          "output_type": "stream",
          "text": [
            "/opt/homebrew/Caskroom/miniconda/base/envs/synthesis-car-od/lib/python3.9/site-packages/tqdm/auto.py:21: TqdmWarning: IProgress not found. Please update jupyter and ipywidgets. See https://ipywidgets.readthedocs.io/en/stable/user_install.html\n",
            "  from .autonotebook import tqdm as notebook_tqdm\n"
          ]
        }
      ],
      "source": [
        "import os\n",
        "import glob\n",
        "from tqdm.auto import tqdm\n",
        "import numpy as np\n",
        "import pandas as pd\n",
        "from pycocotools.coco import COCO\n",
        "from ensemble_boxes import weighted_boxes_fusion"
      ]
    },
    {
      "cell_type": "code",
      "execution_count": 2,
      "metadata": {},
      "outputs": [
        {
          "data": {
            "text/plain": [
              "'/Users/a16/Desktop/JJ/self_study/projects/synthesis-car-od/'"
            ]
          },
          "execution_count": 2,
          "metadata": {},
          "output_type": "execute_result"
        }
      ],
      "source": [
        "working_dir = 'synthesis-car-od'\n",
        "dir_len = len(working_dir)\n",
        "\n",
        "path = os.getcwd().replace('\\\\', '/')\n",
        "index = path.find(working_dir)\n",
        "working_dir = path[:index + dir_len + 1]\n",
        "working_dir"
      ]
    },
    {
      "cell_type": "code",
      "execution_count": 3,
      "metadata": {},
      "outputs": [],
      "source": [
        "TEST_PATH = os.path.join(working_dir, 'data/coco/test.json')\n",
        "SUBMISSION_PATH = os.path.join(working_dir, 'examples/ensemble')"
      ]
    },
    {
      "cell_type": "code",
      "execution_count": 4,
      "metadata": {},
      "outputs": [
        {
          "data": {
            "text/plain": [
              "['/Users/a16/Desktop/JJ/self_study/projects/synthesis-car-od/examples/ensemble/9300_swinL_cascade_train_all_epoch_10.csv',\n",
              " '/Users/a16/Desktop/JJ/self_study/projects/synthesis-car-od/examples/ensemble/9027_swinB_cascade_train_all_epoch_10.csv']"
            ]
          },
          "execution_count": 4,
          "metadata": {},
          "output_type": "execute_result"
        }
      ],
      "source": [
        "submission_files = glob.glob(os.path.join(SUBMISSION_PATH, '*.csv'))\n",
        "submission_files"
      ]
    },
    {
      "cell_type": "code",
      "execution_count": 5,
      "metadata": {},
      "outputs": [],
      "source": [
        "submission_dfs = [pd.read_csv(file) for file in submission_files]"
      ]
    },
    {
      "cell_type": "code",
      "execution_count": 6,
      "metadata": {
        "id": "Q_m-H0ar0SC4",
        "outputId": "5d8cf39d-ffe3-4058-ed7c-89021d2f8482"
      },
      "outputs": [
        {
          "name": "stdout",
          "output_type": "stream",
          "text": [
            "loading annotations into memory...\n",
            "Done (t=0.00s)\n",
            "creating index...\n",
            "index created!\n"
          ]
        }
      ],
      "source": [
        "annotation = TEST_PATH\n",
        "coco = COCO(annotation)"
      ]
    },
    {
      "cell_type": "code",
      "execution_count": 7,
      "metadata": {},
      "outputs": [],
      "source": [
        "file_names = list(map(lambda x : os.path.basename(x['file_name']), coco.loadImgs(coco.getImgIds())))"
      ]
    },
    {
      "cell_type": "code",
      "execution_count": 8,
      "metadata": {},
      "outputs": [],
      "source": [
        "X_COLS = [x for x in submission_dfs[0].columns if 'x' in x]\n",
        "Y_COLS = [y for y in submission_dfs[0].columns if 'y' in y]"
      ]
    },
    {
      "cell_type": "code",
      "execution_count": 9,
      "metadata": {},
      "outputs": [],
      "source": [
        "x_mins = submission_dfs[0][X_COLS].min(axis=1).to_numpy().reshape(-1, 1)\n",
        "y_mins = submission_dfs[0][Y_COLS].min(axis=1).to_numpy().reshape(-1, 1)\n",
        "x_maxes = submission_dfs[0][X_COLS].max(axis=1).to_numpy().reshape(-1, 1)\n",
        "y_maxes = submission_dfs[0][Y_COLS].max(axis=1).to_numpy().reshape(-1, 1)"
      ]
    },
    {
      "cell_type": "code",
      "execution_count": 10,
      "metadata": {},
      "outputs": [
        {
          "name": "stderr",
          "output_type": "stream",
          "text": [
            "  5%|▍         | 155/3400 [00:04<01:30, 35.68it/s]/opt/homebrew/Caskroom/miniconda/base/envs/synthesis-car-od/lib/python3.9/site-packages/ensemble_boxes/ensemble_boxes_wbf.py:66: UserWarning: Zero area box skipped: [0.36777569 1.         0.38651969 1.        ].\n",
            "  warnings.warn(\"Zero area box skipped: {}.\".format(box_part))\n",
            " 15%|█▍        | 507/3400 [00:14<01:21, 35.34it/s]/opt/homebrew/Caskroom/miniconda/base/envs/synthesis-car-od/lib/python3.9/site-packages/ensemble_boxes/ensemble_boxes_wbf.py:66: UserWarning: Zero area box skipped: [0.27972734 1.         0.31309554 1.        ].\n",
            "  warnings.warn(\"Zero area box skipped: {}.\".format(box_part))\n",
            " 23%|██▎       | 783/3400 [00:22<01:15, 34.68it/s]/opt/homebrew/Caskroom/miniconda/base/envs/synthesis-car-od/lib/python3.9/site-packages/ensemble_boxes/ensemble_boxes_wbf.py:66: UserWarning: Zero area box skipped: [0.96451026 1.         0.99442823 1.        ].\n",
            "  warnings.warn(\"Zero area box skipped: {}.\".format(box_part))\n",
            " 70%|███████   | 2395/3400 [01:09<00:29, 33.69it/s]/opt/homebrew/Caskroom/miniconda/base/envs/synthesis-car-od/lib/python3.9/site-packages/ensemble_boxes/ensemble_boxes_wbf.py:66: UserWarning: Zero area box skipped: [0.64296135 1.         0.66294943 1.        ].\n",
            "  warnings.warn(\"Zero area box skipped: {}.\".format(box_part))\n",
            "100%|██████████| 3400/3400 [01:38<00:00, 34.56it/s]\n"
          ]
        }
      ],
      "source": [
        "IOU_THRESHOLD = 0.7\n",
        "\n",
        "final_file_names = []\n",
        "final_class_ids = []\n",
        "final_confidences = []\n",
        "final_x_mins = []\n",
        "final_y_mins = []\n",
        "final_x_maxes = []\n",
        "final_y_maxes = []\n",
        "\n",
        "for i, file_name in enumerate(tqdm(file_names)):\n",
        "    bboxes = []\n",
        "    scores = []\n",
        "    labels = []    \n",
        "    img_info = coco.loadImgs(i)[0]\n",
        "\n",
        "    for submission_df in submission_dfs:\n",
        "        model_pred_df = submission_df.loc[submission_df['file_name'] == file_name]\n",
        "\n",
        "        if len(model_pred_df) == 0:\n",
        "            continue\n",
        "\n",
        "        # bboxes\n",
        "        x_mins = model_pred_df[X_COLS].min(axis=1).to_numpy().reshape(-1, 1) / img_info['width']\n",
        "        y_mins = model_pred_df[Y_COLS].min(axis=1).to_numpy().reshape(-1, 1) / img_info['height']\n",
        "        x_maxes = model_pred_df[X_COLS].max(axis=1).to_numpy().reshape(-1, 1) / img_info['width']\n",
        "        y_maxes = model_pred_df[Y_COLS].max(axis=1).to_numpy().reshape(-1, 1) / img_info['height']\n",
        "\n",
        "        model_bboxes = np.concatenate(\n",
        "            (\n",
        "                x_mins,\n",
        "                y_mins,\n",
        "                x_maxes,\n",
        "                y_maxes,\n",
        "            ),\n",
        "            axis=1\n",
        "        )\n",
        "        bboxes.append(model_bboxes)\n",
        "        \n",
        "        # scores\n",
        "        model_scores = model_pred_df['confidence'].tolist()\n",
        "        scores.append(model_scores)\n",
        "\n",
        "        # labels\n",
        "        model_labels = model_pred_df['class_id'].tolist()\n",
        "        labels.append(model_labels)\n",
        "\n",
        "    if len(bboxes):\n",
        "        ens_bboxes, ens_scores, ens_labels = weighted_boxes_fusion(\n",
        "            bboxes, \n",
        "            scores, \n",
        "            labels, \n",
        "            iou_thr=IOU_THRESHOLD,\n",
        "        )\n",
        "\n",
        "        for bbox, score, label in zip(ens_bboxes, ens_scores, ens_labels):\n",
        "            x_min, y_min, x_max, y_max = bbox\n",
        "\n",
        "            final_file_names.append(file_name)\n",
        "            final_class_ids.append(label)\n",
        "            final_confidences.append(score)\n",
        "            final_x_mins.append(x_min * img_info['width'])\n",
        "            final_y_mins.append(y_min * img_info['height'])\n",
        "            final_x_maxes.append(x_max * img_info['width'])\n",
        "            final_y_maxes.append(y_max * img_info['height'])"
      ]
    },
    {
      "cell_type": "code",
      "execution_count": 11,
      "metadata": {},
      "outputs": [
        {
          "data": {
            "text/html": [
              "<div>\n",
              "<style scoped>\n",
              "    .dataframe tbody tr th:only-of-type {\n",
              "        vertical-align: middle;\n",
              "    }\n",
              "\n",
              "    .dataframe tbody tr th {\n",
              "        vertical-align: top;\n",
              "    }\n",
              "\n",
              "    .dataframe thead th {\n",
              "        text-align: right;\n",
              "    }\n",
              "</style>\n",
              "<table border=\"1\" class=\"dataframe\">\n",
              "  <thead>\n",
              "    <tr style=\"text-align: right;\">\n",
              "      <th></th>\n",
              "      <th>file_name</th>\n",
              "      <th>class_id</th>\n",
              "      <th>confidence</th>\n",
              "      <th>point1_x</th>\n",
              "      <th>point1_y</th>\n",
              "      <th>point2_x</th>\n",
              "      <th>point2_y</th>\n",
              "      <th>point3_x</th>\n",
              "      <th>point3_y</th>\n",
              "      <th>point4_x</th>\n",
              "      <th>point4_y</th>\n",
              "    </tr>\n",
              "  </thead>\n",
              "  <tbody>\n",
              "    <tr>\n",
              "      <th>256072</th>\n",
              "      <td>123112633.png</td>\n",
              "      <td>13</td>\n",
              "      <td>9.999983e-01</td>\n",
              "      <td>1182.576714</td>\n",
              "      <td>278.442489</td>\n",
              "      <td>1447.655411</td>\n",
              "      <td>278.442489</td>\n",
              "      <td>1447.655411</td>\n",
              "      <td>523.666989</td>\n",
              "      <td>1182.576714</td>\n",
              "      <td>523.666989</td>\n",
              "    </tr>\n",
              "    <tr>\n",
              "      <th>221143</th>\n",
              "      <td>115649679.png</td>\n",
              "      <td>6</td>\n",
              "      <td>9.999972e-01</td>\n",
              "      <td>456.573000</td>\n",
              "      <td>533.210996</td>\n",
              "      <td>743.528996</td>\n",
              "      <td>533.210996</td>\n",
              "      <td>743.528996</td>\n",
              "      <td>798.544500</td>\n",
              "      <td>456.573000</td>\n",
              "      <td>798.544500</td>\n",
              "    </tr>\n",
              "    <tr>\n",
              "      <th>74583</th>\n",
              "      <td>093209660.png</td>\n",
              "      <td>13</td>\n",
              "      <td>9.999965e-01</td>\n",
              "      <td>818.163815</td>\n",
              "      <td>300.172598</td>\n",
              "      <td>1070.555420</td>\n",
              "      <td>300.172598</td>\n",
              "      <td>1070.555420</td>\n",
              "      <td>552.816861</td>\n",
              "      <td>818.163815</td>\n",
              "      <td>552.816861</td>\n",
              "    </tr>\n",
              "    <tr>\n",
              "      <th>310936</th>\n",
              "      <td>132929363.png</td>\n",
              "      <td>13</td>\n",
              "      <td>9.999962e-01</td>\n",
              "      <td>1230.807152</td>\n",
              "      <td>307.702793</td>\n",
              "      <td>1508.352242</td>\n",
              "      <td>307.702793</td>\n",
              "      <td>1508.352242</td>\n",
              "      <td>558.436432</td>\n",
              "      <td>1230.807152</td>\n",
              "      <td>558.436432</td>\n",
              "    </tr>\n",
              "    <tr>\n",
              "      <th>216120</th>\n",
              "      <td>115308646.png</td>\n",
              "      <td>13</td>\n",
              "      <td>9.999962e-01</td>\n",
              "      <td>512.879333</td>\n",
              "      <td>743.259215</td>\n",
              "      <td>794.095573</td>\n",
              "      <td>743.259215</td>\n",
              "      <td>794.095573</td>\n",
              "      <td>1018.178988</td>\n",
              "      <td>512.879333</td>\n",
              "      <td>1018.178988</td>\n",
              "    </tr>\n",
              "    <tr>\n",
              "      <th>...</th>\n",
              "      <td>...</td>\n",
              "      <td>...</td>\n",
              "      <td>...</td>\n",
              "      <td>...</td>\n",
              "      <td>...</td>\n",
              "      <td>...</td>\n",
              "      <td>...</td>\n",
              "      <td>...</td>\n",
              "      <td>...</td>\n",
              "      <td>...</td>\n",
              "      <td>...</td>\n",
              "    </tr>\n",
              "    <tr>\n",
              "      <th>326727</th>\n",
              "      <td>134346207.png</td>\n",
              "      <td>5</td>\n",
              "      <td>5.792714e-17</td>\n",
              "      <td>388.875370</td>\n",
              "      <td>1079.285800</td>\n",
              "      <td>426.941860</td>\n",
              "      <td>1079.285800</td>\n",
              "      <td>426.941860</td>\n",
              "      <td>1079.801600</td>\n",
              "      <td>388.875370</td>\n",
              "      <td>1079.801600</td>\n",
              "    </tr>\n",
              "    <tr>\n",
              "      <th>326728</th>\n",
              "      <td>134346207.png</td>\n",
              "      <td>21</td>\n",
              "      <td>5.634831e-17</td>\n",
              "      <td>17.268740</td>\n",
              "      <td>0.000000</td>\n",
              "      <td>158.907820</td>\n",
              "      <td>0.000000</td>\n",
              "      <td>158.907820</td>\n",
              "      <td>166.689800</td>\n",
              "      <td>17.268740</td>\n",
              "      <td>166.689800</td>\n",
              "    </tr>\n",
              "    <tr>\n",
              "      <th>326729</th>\n",
              "      <td>134346207.png</td>\n",
              "      <td>6</td>\n",
              "      <td>5.623729e-17</td>\n",
              "      <td>1514.514400</td>\n",
              "      <td>31.973350</td>\n",
              "      <td>1543.287700</td>\n",
              "      <td>31.973350</td>\n",
              "      <td>1543.287700</td>\n",
              "      <td>59.762283</td>\n",
              "      <td>1514.514400</td>\n",
              "      <td>59.762283</td>\n",
              "    </tr>\n",
              "    <tr>\n",
              "      <th>326730</th>\n",
              "      <td>134346207.png</td>\n",
              "      <td>8</td>\n",
              "      <td>5.455032e-17</td>\n",
              "      <td>388.875370</td>\n",
              "      <td>1079.285800</td>\n",
              "      <td>426.941860</td>\n",
              "      <td>1079.285800</td>\n",
              "      <td>426.941860</td>\n",
              "      <td>1079.801600</td>\n",
              "      <td>388.875370</td>\n",
              "      <td>1079.801600</td>\n",
              "    </tr>\n",
              "    <tr>\n",
              "      <th>326731</th>\n",
              "      <td>134346207.png</td>\n",
              "      <td>27</td>\n",
              "      <td>4.940427e-17</td>\n",
              "      <td>388.875370</td>\n",
              "      <td>1079.285800</td>\n",
              "      <td>426.941860</td>\n",
              "      <td>1079.285800</td>\n",
              "      <td>426.941860</td>\n",
              "      <td>1079.801600</td>\n",
              "      <td>388.875370</td>\n",
              "      <td>1079.801600</td>\n",
              "    </tr>\n",
              "  </tbody>\n",
              "</table>\n",
              "<p>520837 rows × 11 columns</p>\n",
              "</div>"
            ],
            "text/plain": [
              "            file_name  class_id    confidence     point1_x     point1_y   \n",
              "256072  123112633.png        13  9.999983e-01  1182.576714   278.442489  \\\n",
              "221143  115649679.png         6  9.999972e-01   456.573000   533.210996   \n",
              "74583   093209660.png        13  9.999965e-01   818.163815   300.172598   \n",
              "310936  132929363.png        13  9.999962e-01  1230.807152   307.702793   \n",
              "216120  115308646.png        13  9.999962e-01   512.879333   743.259215   \n",
              "...               ...       ...           ...          ...          ...   \n",
              "326727  134346207.png         5  5.792714e-17   388.875370  1079.285800   \n",
              "326728  134346207.png        21  5.634831e-17    17.268740     0.000000   \n",
              "326729  134346207.png         6  5.623729e-17  1514.514400    31.973350   \n",
              "326730  134346207.png         8  5.455032e-17   388.875370  1079.285800   \n",
              "326731  134346207.png        27  4.940427e-17   388.875370  1079.285800   \n",
              "\n",
              "           point2_x     point2_y     point3_x     point3_y     point4_x   \n",
              "256072  1447.655411   278.442489  1447.655411   523.666989  1182.576714  \\\n",
              "221143   743.528996   533.210996   743.528996   798.544500   456.573000   \n",
              "74583   1070.555420   300.172598  1070.555420   552.816861   818.163815   \n",
              "310936  1508.352242   307.702793  1508.352242   558.436432  1230.807152   \n",
              "216120   794.095573   743.259215   794.095573  1018.178988   512.879333   \n",
              "...             ...          ...          ...          ...          ...   \n",
              "326727   426.941860  1079.285800   426.941860  1079.801600   388.875370   \n",
              "326728   158.907820     0.000000   158.907820   166.689800    17.268740   \n",
              "326729  1543.287700    31.973350  1543.287700    59.762283  1514.514400   \n",
              "326730   426.941860  1079.285800   426.941860  1079.801600   388.875370   \n",
              "326731   426.941860  1079.285800   426.941860  1079.801600   388.875370   \n",
              "\n",
              "           point4_y  \n",
              "256072   523.666989  \n",
              "221143   798.544500  \n",
              "74583    552.816861  \n",
              "310936   558.436432  \n",
              "216120  1018.178988  \n",
              "...             ...  \n",
              "326727  1079.801600  \n",
              "326728   166.689800  \n",
              "326729    59.762283  \n",
              "326730  1079.801600  \n",
              "326731  1079.801600  \n",
              "\n",
              "[520837 rows x 11 columns]"
            ]
          },
          "execution_count": 11,
          "metadata": {},
          "output_type": "execute_result"
        }
      ],
      "source": [
        "ensembled_results = pd.read_csv(os.path.join(working_dir, 'data/sample_submission.csv'))\n",
        "ensembled_results['file_name'] = final_file_names\n",
        "ensembled_results['class_id'] = final_class_ids\n",
        "ensembled_results['confidence'] = final_confidences\n",
        "ensembled_results['point1_x'] = final_x_mins\n",
        "ensembled_results['point1_y'] = final_y_mins\n",
        "ensembled_results['point2_x'] = final_x_maxes\n",
        "ensembled_results['point2_y'] = final_y_mins\n",
        "ensembled_results['point3_x'] = final_x_maxes\n",
        "ensembled_results['point3_y'] = final_y_maxes\n",
        "ensembled_results['point4_x'] = final_x_mins\n",
        "ensembled_results['point4_y'] = final_y_maxes\n",
        "\n",
        "ensembled_results.sort_values(by=['confidence'], ascending=False, inplace=True)\n",
        "ensembled_results['class_id'] = ensembled_results['class_id'].astype('int')"
      ]
    },
    {
      "cell_type": "code",
      "execution_count": 12,
      "metadata": {},
      "outputs": [],
      "source": [
        "os.makedirs(os.path.join(SUBMISSION_PATH, 'submit/'), exist_ok=True)\n",
        "ensembled_results.to_csv(os.path.join(SUBMISSION_PATH, f'submit/WBF_ensemble_{IOU_THRESHOLD}.csv'), index=False)"
      ]
    }
  ],
  "metadata": {
    "colab": {
      "name": "ensemble.ipynb",
      "provenance": []
    },
    "interpreter": {
      "hash": "d4d1e4263499bec80672ea0156c357c1ee493ec2b1c70f0acce89fc37c4a6abe"
    },
    "kernelspec": {
      "display_name": "Python 3.8.5 64-bit ('base': conda)",
      "name": "python3"
    },
    "language_info": {
      "codemirror_mode": {
        "name": "ipython",
        "version": 3
      },
      "file_extension": ".py",
      "mimetype": "text/x-python",
      "name": "python",
      "nbconvert_exporter": "python",
      "pygments_lexer": "ipython3",
      "version": "3.9.16"
    }
  },
  "nbformat": 4,
  "nbformat_minor": 2
}
