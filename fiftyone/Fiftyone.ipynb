{
 "cells": [
  {
   "cell_type": "code",
   "execution_count": 1,
   "id": "1fc6dc45",
   "metadata": {},
   "outputs": [
    {
     "name": "stdout",
     "output_type": "stream",
     "text": [
      "  10% |█/-----------------|  1/10 [2.4ms elapsed, 19.1ms remaining, 44.1K samples/s]   \n"
     ]
    },
    {
     "ename": "KeyError",
     "evalue": "'data\\\\train\\\\syn_03697.png'",
     "output_type": "error",
     "traceback": [
      "\u001b[1;31m---------------------------------------------------------------------------\u001b[0m",
      "\u001b[1;31mKeyError\u001b[0m                                  Traceback (most recent call last)",
      "Cell \u001b[1;32mIn[1], line 25\u001b[0m\n\u001b[0;32m     22\u001b[0m labels_path \u001b[38;5;241m=\u001b[39m \u001b[38;5;124m\"\u001b[39m\u001b[38;5;124m./data/labels\u001b[39m\u001b[38;5;124m\"\u001b[39m\n\u001b[0;32m     24\u001b[0m \u001b[38;5;66;03m# Import the dataset\u001b[39;00m\n\u001b[1;32m---> 25\u001b[0m dataset \u001b[38;5;241m=\u001b[39m \u001b[43mfo\u001b[49m\u001b[38;5;241;43m.\u001b[39;49m\u001b[43mDataset\u001b[49m\u001b[38;5;241;43m.\u001b[39;49m\u001b[43mfrom_dir\u001b[49m\u001b[43m(\u001b[49m\n\u001b[0;32m     26\u001b[0m \u001b[43m    \u001b[49m\u001b[43mdataset_type\u001b[49m\u001b[38;5;241;43m=\u001b[39;49m\u001b[43mfo\u001b[49m\u001b[38;5;241;43m.\u001b[39;49m\u001b[43mtypes\u001b[49m\u001b[38;5;241;43m.\u001b[39;49m\u001b[43mCOCODetectionDataset\u001b[49m\u001b[43m,\u001b[49m\n\u001b[0;32m     27\u001b[0m \u001b[43m    \u001b[49m\u001b[43mdata_path\u001b[49m\u001b[38;5;241;43m=\u001b[39;49m\u001b[43mdata_path\u001b[49m\u001b[43m,\u001b[49m\n\u001b[0;32m     28\u001b[0m \u001b[43m    \u001b[49m\u001b[43mlabels_path\u001b[49m\u001b[38;5;241;43m=\u001b[39;49m\u001b[43mlabels_path\u001b[49m\u001b[43m,\u001b[49m\n\u001b[0;32m     29\u001b[0m \u001b[43m    \u001b[49m\u001b[43mname\u001b[49m\u001b[38;5;241;43m=\u001b[39;49m\u001b[38;5;124;43m'\u001b[39;49m\u001b[38;5;124;43mtest\u001b[39;49m\u001b[38;5;124;43m'\u001b[39;49m\u001b[43m,\u001b[49m\n\u001b[0;32m     30\u001b[0m \u001b[43m    \u001b[49m\u001b[43mmax_samples\u001b[49m\u001b[38;5;241;43m=\u001b[39;49m\u001b[38;5;241;43m10\u001b[39;49m\u001b[43m,\u001b[49m\u001b[43m \u001b[49m\n\u001b[0;32m     31\u001b[0m \u001b[43m    \u001b[49m\u001b[43mshuffle\u001b[49m\u001b[38;5;241;43m=\u001b[39;49m\u001b[38;5;28;43;01mTrue\u001b[39;49;00m\u001b[43m,\u001b[49m\u001b[43m \u001b[49m\n\u001b[0;32m     32\u001b[0m \u001b[43m    \u001b[49m\u001b[43mseed\u001b[49m\u001b[38;5;241;43m=\u001b[39;49m\u001b[38;5;241;43m42\u001b[39;49m\n\u001b[0;32m     33\u001b[0m \u001b[43m)\u001b[49m\n\u001b[0;32m     35\u001b[0m view \u001b[38;5;241m=\u001b[39m dataset\u001b[38;5;241m.\u001b[39mview()\n\u001b[0;32m     36\u001b[0m \u001b[38;5;28mprint\u001b[39m(view)\n",
      "File \u001b[1;32mC:\\anaconda3\\envs\\dacon_torch_v2\\lib\\site-packages\\fiftyone\\core\\dataset.py:5200\u001b[0m, in \u001b[0;36mDataset.from_dir\u001b[1;34m(cls, dataset_dir, dataset_type, data_path, labels_path, name, label_field, tags, dynamic, **kwargs)\u001b[0m\n\u001b[0;32m   5110\u001b[0m \u001b[38;5;250m\u001b[39m\u001b[38;5;124;03m\"\"\"Creates a :class:`Dataset` from the contents of the given directory.\u001b[39;00m\n\u001b[0;32m   5111\u001b[0m \n\u001b[0;32m   5112\u001b[0m \u001b[38;5;124;03mYou can create datasets with this method via the following basic\u001b[39;00m\n\u001b[1;32m   (...)\u001b[0m\n\u001b[0;32m   5197\u001b[0m \u001b[38;5;124;03m    a :class:`Dataset`\u001b[39;00m\n\u001b[0;32m   5198\u001b[0m \u001b[38;5;124;03m\"\"\"\u001b[39;00m\n\u001b[0;32m   5199\u001b[0m dataset \u001b[38;5;241m=\u001b[39m \u001b[38;5;28mcls\u001b[39m(name)\n\u001b[1;32m-> 5200\u001b[0m \u001b[43mdataset\u001b[49m\u001b[38;5;241;43m.\u001b[39;49m\u001b[43madd_dir\u001b[49m\u001b[43m(\u001b[49m\n\u001b[0;32m   5201\u001b[0m \u001b[43m    \u001b[49m\u001b[43mdataset_dir\u001b[49m\u001b[38;5;241;43m=\u001b[39;49m\u001b[43mdataset_dir\u001b[49m\u001b[43m,\u001b[49m\n\u001b[0;32m   5202\u001b[0m \u001b[43m    \u001b[49m\u001b[43mdataset_type\u001b[49m\u001b[38;5;241;43m=\u001b[39;49m\u001b[43mdataset_type\u001b[49m\u001b[43m,\u001b[49m\n\u001b[0;32m   5203\u001b[0m \u001b[43m    \u001b[49m\u001b[43mdata_path\u001b[49m\u001b[38;5;241;43m=\u001b[39;49m\u001b[43mdata_path\u001b[49m\u001b[43m,\u001b[49m\n\u001b[0;32m   5204\u001b[0m \u001b[43m    \u001b[49m\u001b[43mlabels_path\u001b[49m\u001b[38;5;241;43m=\u001b[39;49m\u001b[43mlabels_path\u001b[49m\u001b[43m,\u001b[49m\n\u001b[0;32m   5205\u001b[0m \u001b[43m    \u001b[49m\u001b[43mlabel_field\u001b[49m\u001b[38;5;241;43m=\u001b[39;49m\u001b[43mlabel_field\u001b[49m\u001b[43m,\u001b[49m\n\u001b[0;32m   5206\u001b[0m \u001b[43m    \u001b[49m\u001b[43mtags\u001b[49m\u001b[38;5;241;43m=\u001b[39;49m\u001b[43mtags\u001b[49m\u001b[43m,\u001b[49m\n\u001b[0;32m   5207\u001b[0m \u001b[43m    \u001b[49m\u001b[43mdynamic\u001b[49m\u001b[38;5;241;43m=\u001b[39;49m\u001b[43mdynamic\u001b[49m\u001b[43m,\u001b[49m\n\u001b[0;32m   5208\u001b[0m \u001b[43m    \u001b[49m\u001b[38;5;241;43m*\u001b[39;49m\u001b[38;5;241;43m*\u001b[39;49m\u001b[43mkwargs\u001b[49m\u001b[43m,\u001b[49m\n\u001b[0;32m   5209\u001b[0m \u001b[43m\u001b[49m\u001b[43m)\u001b[49m\n\u001b[0;32m   5210\u001b[0m \u001b[38;5;28;01mreturn\u001b[39;00m dataset\n",
      "File \u001b[1;32mC:\\anaconda3\\envs\\dacon_torch_v2\\lib\\site-packages\\fiftyone\\core\\dataset.py:3940\u001b[0m, in \u001b[0;36mDataset.add_dir\u001b[1;34m(self, dataset_dir, dataset_type, data_path, labels_path, label_field, tags, expand_schema, dynamic, add_info, **kwargs)\u001b[0m\n\u001b[0;32m   3838\u001b[0m \u001b[38;5;250m\u001b[39m\u001b[38;5;124;03m\"\"\"Adds the contents of the given directory to the dataset.\u001b[39;00m\n\u001b[0;32m   3839\u001b[0m \n\u001b[0;32m   3840\u001b[0m \u001b[38;5;124;03mYou can perform imports with this method via the following basic\u001b[39;00m\n\u001b[1;32m   (...)\u001b[0m\n\u001b[0;32m   3929\u001b[0m \u001b[38;5;124;03m    a list of IDs of the samples that were added to the dataset\u001b[39;00m\n\u001b[0;32m   3930\u001b[0m \u001b[38;5;124;03m\"\"\"\u001b[39;00m\n\u001b[0;32m   3931\u001b[0m dataset_importer, _ \u001b[38;5;241m=\u001b[39m foud\u001b[38;5;241m.\u001b[39mbuild_dataset_importer(\n\u001b[0;32m   3932\u001b[0m     dataset_type,\n\u001b[0;32m   3933\u001b[0m     dataset_dir\u001b[38;5;241m=\u001b[39mdataset_dir,\n\u001b[1;32m   (...)\u001b[0m\n\u001b[0;32m   3937\u001b[0m     \u001b[38;5;241m*\u001b[39m\u001b[38;5;241m*\u001b[39mkwargs,\n\u001b[0;32m   3938\u001b[0m )\n\u001b[1;32m-> 3940\u001b[0m \u001b[38;5;28;01mreturn\u001b[39;00m \u001b[38;5;28;43mself\u001b[39;49m\u001b[38;5;241;43m.\u001b[39;49m\u001b[43madd_importer\u001b[49m\u001b[43m(\u001b[49m\n\u001b[0;32m   3941\u001b[0m \u001b[43m    \u001b[49m\u001b[43mdataset_importer\u001b[49m\u001b[43m,\u001b[49m\n\u001b[0;32m   3942\u001b[0m \u001b[43m    \u001b[49m\u001b[43mlabel_field\u001b[49m\u001b[38;5;241;43m=\u001b[39;49m\u001b[43mlabel_field\u001b[49m\u001b[43m,\u001b[49m\n\u001b[0;32m   3943\u001b[0m \u001b[43m    \u001b[49m\u001b[43mtags\u001b[49m\u001b[38;5;241;43m=\u001b[39;49m\u001b[43mtags\u001b[49m\u001b[43m,\u001b[49m\n\u001b[0;32m   3944\u001b[0m \u001b[43m    \u001b[49m\u001b[43mexpand_schema\u001b[49m\u001b[38;5;241;43m=\u001b[39;49m\u001b[43mexpand_schema\u001b[49m\u001b[43m,\u001b[49m\n\u001b[0;32m   3945\u001b[0m \u001b[43m    \u001b[49m\u001b[43mdynamic\u001b[49m\u001b[38;5;241;43m=\u001b[39;49m\u001b[43mdynamic\u001b[49m\u001b[43m,\u001b[49m\n\u001b[0;32m   3946\u001b[0m \u001b[43m    \u001b[49m\u001b[43madd_info\u001b[49m\u001b[38;5;241;43m=\u001b[39;49m\u001b[43madd_info\u001b[49m\u001b[43m,\u001b[49m\n\u001b[0;32m   3947\u001b[0m \u001b[43m\u001b[49m\u001b[43m)\u001b[49m\n",
      "File \u001b[1;32mC:\\anaconda3\\envs\\dacon_torch_v2\\lib\\site-packages\\fiftyone\\core\\dataset.py:4500\u001b[0m, in \u001b[0;36mDataset.add_importer\u001b[1;34m(self, dataset_importer, label_field, tags, expand_schema, dynamic, add_info)\u001b[0m\n\u001b[0;32m   4455\u001b[0m \u001b[38;5;28;01mdef\u001b[39;00m \u001b[38;5;21madd_importer\u001b[39m(\n\u001b[0;32m   4456\u001b[0m     \u001b[38;5;28mself\u001b[39m,\n\u001b[0;32m   4457\u001b[0m     dataset_importer,\n\u001b[1;32m   (...)\u001b[0m\n\u001b[0;32m   4462\u001b[0m     add_info\u001b[38;5;241m=\u001b[39m\u001b[38;5;28;01mTrue\u001b[39;00m,\n\u001b[0;32m   4463\u001b[0m ):\n\u001b[0;32m   4464\u001b[0m \u001b[38;5;250m    \u001b[39m\u001b[38;5;124;03m\"\"\"Adds the samples from the given\u001b[39;00m\n\u001b[0;32m   4465\u001b[0m \u001b[38;5;124;03m    :class:`fiftyone.utils.data.importers.DatasetImporter` to the dataset.\u001b[39;00m\n\u001b[0;32m   4466\u001b[0m \n\u001b[1;32m   (...)\u001b[0m\n\u001b[0;32m   4498\u001b[0m \u001b[38;5;124;03m        a list of IDs of the samples that were added to the dataset\u001b[39;00m\n\u001b[0;32m   4499\u001b[0m \u001b[38;5;124;03m    \"\"\"\u001b[39;00m\n\u001b[1;32m-> 4500\u001b[0m     \u001b[38;5;28;01mreturn\u001b[39;00m \u001b[43mfoud\u001b[49m\u001b[38;5;241;43m.\u001b[39;49m\u001b[43mimport_samples\u001b[49m\u001b[43m(\u001b[49m\n\u001b[0;32m   4501\u001b[0m \u001b[43m        \u001b[49m\u001b[38;5;28;43mself\u001b[39;49m\u001b[43m,\u001b[49m\n\u001b[0;32m   4502\u001b[0m \u001b[43m        \u001b[49m\u001b[43mdataset_importer\u001b[49m\u001b[43m,\u001b[49m\n\u001b[0;32m   4503\u001b[0m \u001b[43m        \u001b[49m\u001b[43mlabel_field\u001b[49m\u001b[38;5;241;43m=\u001b[39;49m\u001b[43mlabel_field\u001b[49m\u001b[43m,\u001b[49m\n\u001b[0;32m   4504\u001b[0m \u001b[43m        \u001b[49m\u001b[43mtags\u001b[49m\u001b[38;5;241;43m=\u001b[39;49m\u001b[43mtags\u001b[49m\u001b[43m,\u001b[49m\n\u001b[0;32m   4505\u001b[0m \u001b[43m        \u001b[49m\u001b[43mexpand_schema\u001b[49m\u001b[38;5;241;43m=\u001b[39;49m\u001b[43mexpand_schema\u001b[49m\u001b[43m,\u001b[49m\n\u001b[0;32m   4506\u001b[0m \u001b[43m        \u001b[49m\u001b[43mdynamic\u001b[49m\u001b[38;5;241;43m=\u001b[39;49m\u001b[43mdynamic\u001b[49m\u001b[43m,\u001b[49m\n\u001b[0;32m   4507\u001b[0m \u001b[43m        \u001b[49m\u001b[43madd_info\u001b[49m\u001b[38;5;241;43m=\u001b[39;49m\u001b[43madd_info\u001b[49m\u001b[43m,\u001b[49m\n\u001b[0;32m   4508\u001b[0m \u001b[43m    \u001b[49m\u001b[43m)\u001b[49m\n",
      "File \u001b[1;32mC:\\anaconda3\\envs\\dacon_torch_v2\\lib\\site-packages\\fiftyone\\utils\\data\\importers.py:142\u001b[0m, in \u001b[0;36mimport_samples\u001b[1;34m(dataset, dataset_importer, label_field, tags, expand_schema, dynamic, add_info)\u001b[0m\n\u001b[0;32m    139\u001b[0m \u001b[38;5;28;01melse\u001b[39;00m:\n\u001b[0;32m    140\u001b[0m     samples \u001b[38;5;241m=\u001b[39m \u001b[38;5;28mmap\u001b[39m(parse_sample, \u001b[38;5;28miter\u001b[39m(dataset_importer))\n\u001b[1;32m--> 142\u001b[0m sample_ids \u001b[38;5;241m=\u001b[39m \u001b[43mdataset\u001b[49m\u001b[38;5;241;43m.\u001b[39;49m\u001b[43madd_samples\u001b[49m\u001b[43m(\u001b[49m\n\u001b[0;32m    143\u001b[0m \u001b[43m    \u001b[49m\u001b[43msamples\u001b[49m\u001b[43m,\u001b[49m\n\u001b[0;32m    144\u001b[0m \u001b[43m    \u001b[49m\u001b[43mexpand_schema\u001b[49m\u001b[38;5;241;43m=\u001b[39;49m\u001b[43mexpand_schema\u001b[49m\u001b[43m,\u001b[49m\n\u001b[0;32m    145\u001b[0m \u001b[43m    \u001b[49m\u001b[43mdynamic\u001b[49m\u001b[38;5;241;43m=\u001b[39;49m\u001b[43mdynamic\u001b[49m\u001b[43m,\u001b[49m\n\u001b[0;32m    146\u001b[0m \u001b[43m    \u001b[49m\u001b[43mnum_samples\u001b[49m\u001b[38;5;241;43m=\u001b[39;49m\u001b[43mnum_samples\u001b[49m\u001b[43m,\u001b[49m\n\u001b[0;32m    147\u001b[0m \u001b[43m\u001b[49m\u001b[43m)\u001b[49m\n\u001b[0;32m    149\u001b[0m \u001b[38;5;28;01mif\u001b[39;00m add_info \u001b[38;5;129;01mand\u001b[39;00m dataset_importer\u001b[38;5;241m.\u001b[39mhas_dataset_info:\n\u001b[0;32m    150\u001b[0m     info \u001b[38;5;241m=\u001b[39m dataset_importer\u001b[38;5;241m.\u001b[39mget_dataset_info()\n",
      "File \u001b[1;32mC:\\anaconda3\\envs\\dacon_torch_v2\\lib\\site-packages\\fiftyone\\core\\dataset.py:2464\u001b[0m, in \u001b[0;36mDataset.add_samples\u001b[1;34m(self, samples, expand_schema, dynamic, validate, num_samples)\u001b[0m\n\u001b[0;32m   2462\u001b[0m sample_ids \u001b[38;5;241m=\u001b[39m []\n\u001b[0;32m   2463\u001b[0m \u001b[38;5;28;01mwith\u001b[39;00m batcher:\n\u001b[1;32m-> 2464\u001b[0m     \u001b[38;5;28;01mfor\u001b[39;00m batch \u001b[38;5;129;01min\u001b[39;00m batcher:\n\u001b[0;32m   2465\u001b[0m         _ids \u001b[38;5;241m=\u001b[39m \u001b[38;5;28mself\u001b[39m\u001b[38;5;241m.\u001b[39m_add_samples_batch(\n\u001b[0;32m   2466\u001b[0m             batch, expand_schema, dynamic, validate\n\u001b[0;32m   2467\u001b[0m         )\n\u001b[0;32m   2468\u001b[0m         sample_ids\u001b[38;5;241m.\u001b[39mextend(_ids)\n",
      "File \u001b[1;32mC:\\anaconda3\\envs\\dacon_torch_v2\\lib\\site-packages\\fiftyone\\core\\utils.py:989\u001b[0m, in \u001b[0;36mDynamicBatcher.__next__\u001b[1;34m(self)\u001b[0m\n\u001b[0;32m    987\u001b[0m \u001b[38;5;28;01mtry\u001b[39;00m:\n\u001b[0;32m    988\u001b[0m     \u001b[38;5;28;01mwhile\u001b[39;00m idx \u001b[38;5;241m<\u001b[39m batch_size:\n\u001b[1;32m--> 989\u001b[0m         batch\u001b[38;5;241m.\u001b[39mappend(\u001b[38;5;28;43mnext\u001b[39;49m\u001b[43m(\u001b[49m\u001b[38;5;28;43mself\u001b[39;49m\u001b[38;5;241;43m.\u001b[39;49m\u001b[43m_iter\u001b[49m\u001b[43m)\u001b[49m)\n\u001b[0;32m    990\u001b[0m         idx \u001b[38;5;241m+\u001b[39m\u001b[38;5;241m=\u001b[39m \u001b[38;5;241m1\u001b[39m\n\u001b[0;32m    992\u001b[0m \u001b[38;5;28;01mexcept\u001b[39;00m \u001b[38;5;167;01mStopIteration\u001b[39;00m:\n",
      "File \u001b[1;32mC:\\anaconda3\\envs\\dacon_torch_v2\\lib\\site-packages\\fiftyone\\utils\\coco.py:433\u001b[0m, in \u001b[0;36mCOCODetectionDatasetImporter.__next__\u001b[1;34m(self)\u001b[0m\n\u001b[0;32m    431\u001b[0m     image_path \u001b[38;5;241m=\u001b[39m filename\n\u001b[0;32m    432\u001b[0m \u001b[38;5;28;01melse\u001b[39;00m:\n\u001b[1;32m--> 433\u001b[0m     image_path \u001b[38;5;241m=\u001b[39m \u001b[38;5;28;43mself\u001b[39;49m\u001b[38;5;241;43m.\u001b[39;49m\u001b[43m_image_paths_map\u001b[49m\u001b[43m[\u001b[49m\u001b[43mfilename\u001b[49m\u001b[43m]\u001b[49m\n\u001b[0;32m    435\u001b[0m image_dict \u001b[38;5;241m=\u001b[39m \u001b[38;5;28mself\u001b[39m\u001b[38;5;241m.\u001b[39m_image_dicts_map\u001b[38;5;241m.\u001b[39mget(filename, \u001b[38;5;28;01mNone\u001b[39;00m)\n\u001b[0;32m    437\u001b[0m \u001b[38;5;28;01mif\u001b[39;00m image_dict \u001b[38;5;129;01mis\u001b[39;00m \u001b[38;5;28;01mNone\u001b[39;00m:\n",
      "\u001b[1;31mKeyError\u001b[0m: 'data\\\\train\\\\syn_03697.png'"
     ]
    }
   ],
   "source": [
    "import fiftyone as fo\n",
    "import fiftyone.zoo as foz\n",
    "from fiftyone import ViewField as F\n",
    "\n",
    "# The directory containing the source images\n",
    "data_path = \"./data/train/\"\n",
    "# data_path = \".\\\\data\\\\train\"\n",
    "\n",
    "# The path to the COCO labels JSON file\n",
    "# The path to a COCO labels JSON file containing absolute image paths\n",
    "labels_path = \"./data/labels\"\n",
    "# labels_path = \".\\\\data\\\\labels\"\n",
    "\n",
    "# Import the dataset\n",
    "dataset = fo.Dataset.from_dir(\n",
    "    dataset_type=fo.types.COCODetectionDataset,\n",
    "    # data_path=data_path,\n",
    "    labels_path=labels_path,\n",
    "    name='test',\n",
    "    max_samples=10, \n",
    "    shuffle=True, \n",
    "    seed=42\n",
    ")\n",
    "\n",
    "view = dataset.view()\n",
    "print(view)"
   ]
  },
  {
   "cell_type": "code",
   "execution_count": null,
   "id": "55db544e",
   "metadata": {},
   "outputs": [],
   "source": [
    "fo.launch_app(dataset)"
   ]
  },
  {
   "cell_type": "code",
   "execution_count": null,
   "id": "3c78350a",
   "metadata": {},
   "outputs": [],
   "source": []
  },
  {
   "cell_type": "raw",
   "id": "e9728727",
   "metadata": {},
   "source": [
    "\n",
    "\n",
    "dataset = dataset = fo.Dataset.from_dir(\n",
    "    dataset_type=fo.types.COCODetectionDataset,\n",
    "    data_path=data_path,\n",
    "    labels_path=labels_path,\n",
    ")\n",
    "dataset.persistent = True\n",
    "\n",
    "# Create a view\n",
    "cats_view = (\n",
    "    dataset\n",
    "    .select_fields(\"ground_truth\")\n",
    "    .filter_labels(\"ground_truth\", F(\"label\") == \"cat\")\n",
    "    .sort_by(F(\"ground_truth.detections\").length(), reverse=True)\n",
    ")\n",
    "\n",
    "# Save the view\n",
    "dataset.save_view(\"cats-view\", cats_view)"
   ]
  },
  {
   "cell_type": "code",
   "execution_count": null,
   "id": "6da37591",
   "metadata": {},
   "outputs": [],
   "source": []
  },
  {
   "cell_type": "raw",
   "id": "b160a1e6",
   "metadata": {},
   "source": [
    "import cv2\n",
    "\n",
    "image_path = \"./data/train/syn_00000.png\"\n",
    "\n",
    "# 이미지 파일 읽기\n",
    "image = cv2.imread(image_path)\n",
    "\n",
    "# 이미지 확인\n",
    "cv2.imshow(\"Image\", image)\n",
    "cv2.waitKey(0)\n",
    "cv2.destroyAllWindows()"
   ]
  },
  {
   "cell_type": "code",
   "execution_count": null,
   "id": "6b0de7bb",
   "metadata": {},
   "outputs": [],
   "source": []
  }
 ],
 "metadata": {
  "kernelspec": {
   "display_name": "Python 3 (ipykernel)",
   "language": "python",
   "name": "python3"
  },
  "language_info": {
   "codemirror_mode": {
    "name": "ipython",
    "version": 3
   },
   "file_extension": ".py",
   "mimetype": "text/x-python",
   "name": "python",
   "nbconvert_exporter": "python",
   "pygments_lexer": "ipython3",
   "version": "3.8.16"
  }
 },
 "nbformat": 4,
 "nbformat_minor": 5
}
