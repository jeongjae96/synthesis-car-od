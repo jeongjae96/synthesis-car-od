{
 "cells": [
  {
   "attachments": {},
   "cell_type": "markdown",
   "metadata": {},
   "source": [
    "### YOLO v8"
   ]
  },
  {
   "cell_type": "code",
   "execution_count": null,
   "metadata": {},
   "outputs": [],
   "source": [
    "import os\n",
    "os.environ[\"WANDB_DISABLED\"] = \"true\"\n",
    "\n",
    "import pandas as pd\n",
    "import cv2\n",
    "import warnings\n",
    "warnings.filterwarnings(\"ignore\")\n",
    "\n",
    "from ultralytics import YOLO\n",
    "from glob import glob\n",
    "from tqdm import tqdm\n",
    "from IPython.display import clear_output"
   ]
  },
  {
   "cell_type": "code",
   "execution_count": null,
   "metadata": {},
   "outputs": [],
   "source": [
    "SEED = 42\n",
    "BATCH_SIZE = 4\n",
    "MODEL = \"v8x\"\n",
    "\n",
    "data_path = \"../../../data/\""
   ]
  },
  {
   "cell_type": "code",
   "execution_count": null,
   "metadata": {},
   "outputs": [],
   "source": [
    "model = YOLO(\"yolov8x.pt\")"
   ]
  },
  {
   "cell_type": "code",
   "execution_count": null,
   "metadata": {},
   "outputs": [],
   "source": [
    "results = model.train(\n",
    "    data= data_path + \"yolo/all.yaml\",\n",
    "    imgsz=1024,\n",
    "    epochs=200,\n",
    "    batch=BATCH_SIZE,\n",
    "    patience=10,\n",
    "    workers=16,\n",
    "    device=0,\n",
    "    exist_ok=True,    \n",
    "    project=f\"{MODEL}\",\n",
    "    name=f\"train\",\n",
    "    seed=SEED,\n",
    "    pretrained=False,\n",
    "    resume=False, \n",
    "    optimizer=\"AdamW\",\n",
    "    lr0=1e-3,\n",
    "    val=False, \n",
    "    cache=True,\n",
    "    # augmentation\n",
    "    fliplr=0.0,\n",
    "    # augmentation 원복\n",
    "    # translate=0.0,\n",
    "    # scale=0.0,\n",
    "    # mosaic=0.0, \n",
    "    # save_period=10,\n",
    ")"
   ]
  },
  {
   "cell_type": "code",
   "execution_count": null,
   "metadata": {},
   "outputs": [],
   "source": [
    "def get_test_image_paths(test_image_paths):    \n",
    "    for i in range(0, len(test_image_paths), BATCH_SIZE):\n",
    "        yield test_image_paths[i:i+BATCH_SIZE]"
   ]
  },
  {
   "cell_type": "code",
   "execution_count": null,
   "metadata": {},
   "outputs": [],
   "source": [
    "model = YOLO(\"v2/train/weights/last.pt\")\n",
    "test_image_paths = glob(data_path + \"test/*.png\")\n",
    "for i, image in tqdm(enumerate(get_test_image_paths(test_image_paths)), total=int(len(test_image_paths)/BATCH_SIZE)):\n",
    "    model.predict(image, imgsz=(1024, 1024), iou=0.2, conf=0.5, save_conf=True, save=False, save_txt=True, project=f\"{MODEL}\", name=\"predict\",\n",
    "                  exist_ok=True, device=0, augment=True, verbose=False)\n",
    "    if i % 5 == 0:\n",
    "        clear_output(wait=True)"
   ]
  },
  {
   "cell_type": "code",
   "execution_count": null,
   "metadata": {},
   "outputs": [],
   "source": [
    "def yolo_to_labelme(line, image_width, image_height, txt_file_name):    \n",
    "    file_name = txt_file_name.split(\"/\")[-1].replace(\".txt\", \".png\")\n",
    "    class_id, x, y, width, height, confidence = [float(temp) for temp in line.split()]\n",
    "    \n",
    "    x_min = int((x - width / 2) * image_width)\n",
    "    x_max = int((x + width / 2) * image_width)\n",
    "    y_min = int((y - height / 2) * image_height)\n",
    "    y_max = int((y + height / 2) * image_height)\n",
    "    \n",
    "    return file_name, int(class_id), confidence, x_min, y_min, x_max, y_min, x_max, y_max, x_min, y_max"
   ]
  },
  {
   "cell_type": "code",
   "execution_count": null,
   "metadata": {},
   "outputs": [],
   "source": [
    "infer_txts = glob(f\"{MODEL}/predict/labels/*.txt\")\n",
    "\n",
    "results = []\n",
    "for infer_txt in tqdm(infer_txts):\n",
    "    base_file_name = infer_txt.split(\"/\")[-1].split(\".\")[0]\n",
    "    imgage_height, imgage_width = cv2.imread(f\"{data_path}test/{base_file_name}.png\").shape[:2]        \n",
    "    with open(infer_txt, \"r\") as reader:        \n",
    "        lines = reader.readlines()        \n",
    "        for line in lines:\n",
    "            results.append(yolo_to_labelme(line, imgage_width, imgage_height, infer_txt))\n",
    "\n",
    "df_submission = pd.DataFrame(data=results, columns=[\"file_name\", \"class_id\", \"confidence\", \"point1_x\", \"point1_y\", \"point2_x\", \"point2_y\", \"point3_x\", \"point3_y\", \"point4_x\", \"point4_y\"])\n",
    "df_submission.sort_values([\"confidence\"], ascending=False, inplace=True)\n",
    "df_submission.to_csv(f\"../../../submissions/yolov8.csv\", index=False)"
   ]
  }
 ],
 "metadata": {
  "kernelspec": {
   "display_name": "Python 3 (ipykernel)",
   "language": "python",
   "name": "python3"
  },
  "language_info": {
   "codemirror_mode": {
    "name": "ipython",
    "version": 3
   },
   "file_extension": ".py",
   "mimetype": "text/x-python",
   "name": "python",
   "nbconvert_exporter": "python",
   "pygments_lexer": "ipython3",
   "version": "3.8.16"
  }
 },
 "nbformat": 4,
 "nbformat_minor": 2
}
